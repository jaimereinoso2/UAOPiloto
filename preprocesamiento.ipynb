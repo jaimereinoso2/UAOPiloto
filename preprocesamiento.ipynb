{
 "cells": [
  {
   "cell_type": "markdown",
   "metadata": {},
   "source": [
    "## PROYETO PILOTO AUTONOMA DESERCION\n",
    "\n",
    "Luego de revisar varias veces la data, se decide empezar por la tabla con mayor detalle que es EstudianteAsignatura, que tiene información no solo de las asignaturas que el estudiante ha matriculado en un periodo, sino también qué grupos ha tomado de dicha asigantura e incluso qué docentes dictaron clase en cada grupo.\n",
    "\n",
    "La tabla base del proyecto es EstudianteSemestre, que es la que indica si el estudiante tomó asignaturas en ese semestre o no.   Llegaremos posteriormente a ella."
   ]
  },
  {
   "cell_type": "markdown",
   "metadata": {},
   "source": [
    "Usaremos solo una conexión a la base de datos.  Solo ejecutar el siguiente codigo una vez.\n",
    "\n",
    "Para queries solo se requiere lo siguiente y el resultado queda en el dataframe\n",
    "1. query = 'SELECT ...'\n",
    "2. df = pd.read_sql(query, cnx)\n",
    "\n",
    "Para DML se requiere:\n",
    "1. crear un cursor = cnx.cursor()\n",
    "2. query = 'update...'\n",
    "3. cursor.execute(query)\n",
    "4. cnx.commit()\n",
    "5. cursor.close()"
   ]
  },
  {
   "cell_type": "code",
   "execution_count": 18,
   "metadata": {},
   "outputs": [],
   "source": [
    "from sqlalchemy import create_engine\n",
    "import pandas as pd\n",
    "\n",
    "usuario = 'uaopiloto'\n",
    "contraseña = 'ap'\n",
    "host = 'localhost'  # Por ejemplo, 'localhost'\n",
    "base_de_datos = 'UAOPiloto'\n",
    "\n",
    "# Crea una cadena de conexión\n",
    "cadena_conexion = f'mysql+mysqlconnector://{usuario}:{contraseña}@{host}/{base_de_datos}'\n",
    "conexionMySQL = create_engine(cadena_conexion)\n",
    "\n",
    "\n",
    "# df.to_sql(nombre_de_tabla, motor, if_exists='replace', index=False)\n",
    "\n",
    "# import mysql.connector\n",
    "# import pandas as pd\n",
    "\n",
    "# # Conectarse a la base de datos \n",
    "# cnx = mysql.connector.connect(user='uaopiloto', password='ap',\n",
    "#                               host='localhost',\n",
    "#                               database='UAOPiloto')"
   ]
  },
  {
   "cell_type": "markdown",
   "metadata": {},
   "source": [
    "ALGORITMO e HIPOTESIS\n",
    "\n",
    "1. creamos PERIODOS a partir de los distintos períodos en AXM y que nos queden ordenados, y en una lista\n",
    "pues luego vamos a confirmar si luego de dos períodos estos estudiantes han dejado de matricular.\n",
    "1. creamos DATOS a partir de Matrícula.\n",
    "2. adicionamos la columna LABEL que debe ser 1 si luego de 2 periodos,  el estudiante dejó de matricular mínimo 2 periodos consecutivos o más y no fue que se graduó.  De lo contrario debe ser 0.\n",
    "\n",
    "BASE:  puede ser que nos paramos al final de un semestre, o al prinpcio de un semestre.    Este segundo caso nos permitiria jugar con 202302.  Asi que escogemos asumir que estamos iniciando un semestre y por tanto no tenemos notas del semestre actual.\n",
    "\n",
    "HIPOTESIS\n",
    "\n",
    "1.  promedio acumulado de 4 semestres anteriores\n",
    "2.  promedio por semestre de 4 semestres anteriores\n",
    "3.  cantidad de asignaturas que tomó el semestre actual y 4 semestres hacia atras\n",
    "4.  cantidad de créditos que tomó semestre actual y 4 semestres anteriores\n",
    "5.  cantidad de créditos que perdió 4 semestres anteriores\n",
    "6.  cantidad de asignaturas que perdió 4 semestres anteriores\n",
    "7.  si asistió a actividades extracurriculares 4 semestres anteriores\n",
    "8.  que tan heterogenoes fueron los grupos que toma este semestre y 4 anteriores (desvStd edad, relación F:M)\n",
    "9.  tuvo mora en 4 semestres anteriores\n",
    "10. docentes - edad promedio docentes este semestre y anteriores\n",
    "11. asignaturas que tomó y sus notas en 4 semestres anteriores (son un jurgo de variables)\n"
   ]
  },
  {
   "cell_type": "markdown",
   "metadata": {},
   "source": [
    "Algoritmo Paso 1:  creamos PERIODOS"
   ]
  },
  {
   "cell_type": "code",
   "execution_count": 34,
   "metadata": {},
   "outputs": [],
   "source": [
    "# Traemos los PERIODOS\n",
    "query = \"\"\"\n",
    "SELECT distinct PERIODO \n",
    "FROM EstudianteAsignatura\n",
    "ORDER BY PERIODO\"\"\"\n",
    "\n",
    "# Leer resultados en un DataFrame y lo convertimos en una lsita\n",
    "PERIODOS = pd.read_sql_query(query, conexionMySQL)\n",
    "lPeriodos = PERIODOS['PERIODO'].to_list()\n",
    "\n",
    "# Treamos una lista de estudiantes\n",
    "query = \"\"\"\n",
    "SELECT distinct id_estudiante \n",
    "FROM EstudianteAsignatura\n",
    "ORDER BY id_estudiante\"\"\"\n",
    "\n",
    "# Leer resultados en un DataFrame y lo convertimos en una lsita\n",
    "ESTUDIANTES = pd.read_sql_query(query, conexionMySQL)\n",
    "lEstudiantes = ESTUDIANTES['id_estudiante'].to_list()\n",
    "\n"
   ]
  },
  {
   "cell_type": "markdown",
   "metadata": {},
   "source": [
    "Algoritmo Paso 2:  cremos DATOS a partir EstudianteAsignatura(id_estudiante, periodo)"
   ]
  },
  {
   "cell_type": "code",
   "execution_count": 30,
   "metadata": {},
   "outputs": [
    {
     "data": {
      "text/plain": [
       "(832, 2)"
      ]
     },
     "execution_count": 30,
     "metadata": {},
     "output_type": "execute_result"
    }
   ],
   "source": [
    "# Hacer una consulta SQL\n",
    "query = \"\"\"\n",
    "SELECT distinct id_estudiante, periodo \n",
    "FROM EstudianteAsignatura\"\"\"\n",
    "\n",
    "# Leer resultados en un DataFrame\n",
    "MATRICULAS = pd.read_sql_query(query, conexionMySQL)\n",
    "MATRICULAS.shape"
   ]
  },
  {
   "cell_type": "markdown",
   "metadata": {},
   "source": [
    "Algoritmo paso 3:  crear columna LABEL y que sea 1 si dado una flia en matricula, NO hay fila en matrícula durante 2 periodos consecutivos posteriores."
   ]
  },
  {
   "cell_type": "code",
   "execution_count": 38,
   "metadata": {},
   "outputs": [
    {
     "name": "stdout",
     "output_type": "stream",
     "text": [
      "analizando  2136689 201803\n"
     ]
    },
    {
     "name": "stderr",
     "output_type": "stream",
     "text": [
      "/var/folders/tx/1tx9w9fj6v78n5f12zkwg_vc0000gn/T/ipykernel_16595/3004866355.py:22: SettingWithCopyWarning: \n",
      "A value is trying to be set on a copy of a slice from a DataFrame.\n",
      "Try using .loc[row_indexer,col_indexer] = value instead\n",
      "\n",
      "See the caveats in the documentation: https://pandas.pydata.org/pandas-docs/stable/user_guide/indexing.html#returning-a-view-versus-a-copy\n",
      "  MATRICULAS[((MATRICULAS['id_estudiante'] == lEstudiantes[e]) & (MATRICULAS['periodo'] == lPeriodos[p]))]['LABEL'] = 1\n"
     ]
    },
    {
     "ename": "IndexError",
     "evalue": "list index out of range",
     "output_type": "error",
     "traceback": [
      "\u001b[0;31m---------------------------------------------------------------------------\u001b[0m",
      "\u001b[0;31mIndexError\u001b[0m                                Traceback (most recent call last)",
      "\u001b[1;32m/Users/jaimereinoso/DESARROLLO/UAOPiloto/preprocesamiento.ipynb Cell 10\u001b[0m line \u001b[0;36m1\n\u001b[1;32m     <a href='vscode-notebook-cell:/Users/jaimereinoso/DESARROLLO/UAOPiloto/preprocesamiento.ipynb#X21sZmlsZQ%3D%3D?line=11'>12</a>\u001b[0m \u001b[39mif\u001b[39;00m estaEstudiando:\n\u001b[1;32m     <a href='vscode-notebook-cell:/Users/jaimereinoso/DESARROLLO/UAOPiloto/preprocesamiento.ipynb#X21sZmlsZQ%3D%3D?line=13'>14</a>\u001b[0m     semestre_1 \u001b[39m=\u001b[39m ((MATRICULAS[\u001b[39m'\u001b[39m\u001b[39mid_estudiante\u001b[39m\u001b[39m'\u001b[39m] \u001b[39m==\u001b[39m lEstudiantes[e]) \u001b[39m&\u001b[39m (MATRICULAS[\u001b[39m'\u001b[39m\u001b[39mperiodo\u001b[39m\u001b[39m'\u001b[39m] \u001b[39m==\u001b[39m lPeriodos[p\u001b[39m+\u001b[39m\u001b[39m1\u001b[39m]))\u001b[39m.\u001b[39many() \n\u001b[0;32m---> <a href='vscode-notebook-cell:/Users/jaimereinoso/DESARROLLO/UAOPiloto/preprocesamiento.ipynb#X21sZmlsZQ%3D%3D?line=14'>15</a>\u001b[0m     semestre_2 \u001b[39m=\u001b[39m ((MATRICULAS[\u001b[39m'\u001b[39m\u001b[39mid_estudiante\u001b[39m\u001b[39m'\u001b[39m] \u001b[39m==\u001b[39m lEstudiantes[e]) \u001b[39m&\u001b[39m (MATRICULAS[\u001b[39m'\u001b[39m\u001b[39mperiodo\u001b[39m\u001b[39m'\u001b[39m] \u001b[39m==\u001b[39m lPeriodos[p\u001b[39m+\u001b[39;49m\u001b[39m2\u001b[39;49m]))\u001b[39m.\u001b[39many() \n\u001b[1;32m     <a href='vscode-notebook-cell:/Users/jaimereinoso/DESARROLLO/UAOPiloto/preprocesamiento.ipynb#X21sZmlsZQ%3D%3D?line=16'>17</a>\u001b[0m     \u001b[39mif\u001b[39;00m semestre_1 \u001b[39m&\u001b[39m semestre_2:\n\u001b[1;32m     <a href='vscode-notebook-cell:/Users/jaimereinoso/DESARROLLO/UAOPiloto/preprocesamiento.ipynb#X21sZmlsZQ%3D%3D?line=18'>19</a>\u001b[0m         \u001b[39mpass\u001b[39;00m \n",
      "\u001b[0;31mIndexError\u001b[0m: list index out of range"
     ]
    }
   ],
   "source": [
    "for e in range(0, len(lEstudiantes)):\n",
    "\n",
    "    estaEstudiando = False\n",
    "\n",
    "    for p in range(0, len(lPeriodos)):\n",
    "\n",
    "        if ((MATRICULAS['id_estudiante'] == lEstudiantes[e]) & (MATRICULAS['periodo'] == lPeriodos[p])).any():\n",
    "            estaEstudiando = True\n",
    "            print('analizando ',lEstudiantes[e], lPeriodos[p] )\n",
    "        \n",
    "        # miramos si dos semestres siguiente esta estudiando.  Si no lo está haciendo, marcamos como desertor\n",
    "        if estaEstudiando:\n",
    "\n",
    "            semestre_1 = ((MATRICULAS['id_estudiante'] == lEstudiantes[e]) & (MATRICULAS['periodo'] == lPeriodos[p+1])).any() \n",
    "            semestre_2 = ((MATRICULAS['id_estudiante'] == lEstudiantes[e]) & (MATRICULAS['periodo'] == lPeriodos[p+2])).any() \n",
    "\n",
    "            if semestre_1 & semestre_2:\n",
    "                \n",
    "                pass \n",
    "\n",
    "            else:\n",
    "                MATRICULAS[((MATRICULAS['id_estudiante'] == lEstudiantes[e]) & (MATRICULAS['periodo'] == lPeriodos[p]))]['LABEL'] = 1\n",
    "\n",
    "    break\n",
    "    "
   ]
  },
  {
   "cell_type": "code",
   "execution_count": null,
   "metadata": {},
   "outputs": [],
   "source": []
  }
 ],
 "metadata": {
  "kernelspec": {
   "display_name": "venv",
   "language": "python",
   "name": "python3"
  },
  "language_info": {
   "codemirror_mode": {
    "name": "ipython",
    "version": 3
   },
   "file_extension": ".py",
   "mimetype": "text/x-python",
   "name": "python",
   "nbconvert_exporter": "python",
   "pygments_lexer": "ipython3",
   "version": "3.9.6"
  },
  "orig_nbformat": 4
 },
 "nbformat": 4,
 "nbformat_minor": 2
}
