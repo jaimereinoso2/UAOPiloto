{
 "cells": [
  {
   "cell_type": "markdown",
   "metadata": {},
   "source": [
    "## **UAOPiloto**\n",
    "Detección de estudiantes que van a desertar en 2 períodos."
   ]
  },
  {
   "cell_type": "markdown",
   "metadata": {},
   "source": [
    "### **1.  Conexión a la base de datos**\n",
    "Nos conectamos a la base de datos MYSQL"
   ]
  },
  {
   "cell_type": "code",
   "execution_count": 2,
   "metadata": {},
   "outputs": [],
   "source": [
    "import pandas as pd\n",
    "from sqlalchemy import create_engine\n",
    "\n",
    "usuario = 'uaopiloto'\n",
    "contraseña = 'ap'\n",
    "host = 'localhost'  # Por ejemplo, 'localhost'\n",
    "base_de_datos = 'UAOPiloto'\n",
    "\n",
    "# Crea una cadena de conexión\n",
    "cadena_conexion = f'mysql+mysqlconnector://{usuario}:{contraseña}@{host}/{base_de_datos}'\n",
    "# Crea una instancia del motor SQLAlchemy\n",
    "motor = create_engine(cadena_conexion)"
   ]
  },
  {
   "cell_type": "markdown",
   "metadata": {},
   "source": [
    "### **2.  Detección estudiantes que han desertado**\n",
    "Se detecta qué estudiante ha dejado de matricular 2 periodos seguidos sin ser que se ha graduado\n",
    "\n",
    "2.1 DATOS:  la tabla base de generación de predicciones.   DATOS(id_estudiante, periodo)\n",
    "2.2 PERIODOS:  son los períodos regulares.  PERIODOS(periodo, orden).  Orden nos señala en qué orden se presentan los períodos.\n",
    "\n",
    "A Datos le adicionamos el primer periodo que hizo matrícula cada estudiante\n",
    "PRIMER_PERIODO (id_estudiante, periodo), donde periodo es el primer periodo. "
   ]
  },
  {
   "cell_type": "code",
   "execution_count": 25,
   "metadata": {},
   "outputs": [],
   "source": [
    "query = \"\"\"\n",
    "    SELECT distinct id_estudiante, periodo\n",
    "    FROM estudianteAsignatura\n",
    "    ORDER BY id_estudiante, periodo\n",
    "\"\"\"\n",
    "DATOS = pd.read_sql(query, con=motor)\n",
    "\n",
    "\n",
    "\n",
    "# NOTA:  falta manejar el caso de cursos de verano...  cuándo marcar al estudainte como desertor?  ERIK ya tiene la pregunta 20231009"
   ]
  },
  {
   "cell_type": "code",
   "execution_count": 35,
   "metadata": {},
   "outputs": [],
   "source": [
    "# adicionamos el primer periodo en que ese estudiante hizo una matricula\n",
    "query = \"\"\"\n",
    "    SELECT  id_estudiante, min(periodo) periodo_inicial\n",
    "    FROM EstudiantesMatriculas\n",
    "    WHERE periodo like '%1' or periodo like '%3'\n",
    "    GROUP BY id_estudiante\n",
    "\"\"\"\n",
    "temp = pd.read_sql(query, con=motor)\n",
    "# hacemos join entre DATOS y PRIMER_PERIODO para adicionar el periodo_inicial\n",
    "DATOS2 = DATOS.merge(temp, on=['id_estudiante'], how='left')"
   ]
  },
  {
   "cell_type": "code",
   "execution_count": 34,
   "metadata": {},
   "outputs": [],
   "source": [
    "# ahora adicionamos el periodo de grado Y TODAS LAS COLUMNAS REQUERIDAS DESDE ESTUDIANTES_LIMPIO pues ya hice todo el trabajo\n",
    "# de limpieza.\n",
    "\n",
    "query = \"\"\"\n",
    "    SELECT codigo id_estudiante, fecha_grado  <INCLUIR TODAS LAS COLUMNAS NECESARIAS>\n",
    "    FROM estudiantes_limpio\n",
    "\"\"\"\n",
    "temp = pd.read_sql(query, con=motor)\n",
    "\n",
    "# hacemos join con DATOS para adicionar la fecha de grado\n",
    "DATOS3 = DATOS2.merge(temp, on=['id_estudiante'], how='left')\n",
    "\n",
    "\n",
    "\n"
   ]
  },
  {
   "cell_type": "code",
   "execution_count": 33,
   "metadata": {},
   "outputs": [
    {
     "data": {
      "text/html": [
       "<div>\n",
       "<style scoped>\n",
       "    .dataframe tbody tr th:only-of-type {\n",
       "        vertical-align: middle;\n",
       "    }\n",
       "\n",
       "    .dataframe tbody tr th {\n",
       "        vertical-align: top;\n",
       "    }\n",
       "\n",
       "    .dataframe thead th {\n",
       "        text-align: right;\n",
       "    }\n",
       "</style>\n",
       "<table border=\"1\" class=\"dataframe\">\n",
       "  <thead>\n",
       "    <tr style=\"text-align: right;\">\n",
       "      <th></th>\n",
       "      <th>id_estudiante</th>\n",
       "      <th>periodo</th>\n",
       "      <th>fecha_grado_x</th>\n",
       "      <th>fecha_grado_y</th>\n",
       "    </tr>\n",
       "  </thead>\n",
       "  <tbody>\n",
       "    <tr>\n",
       "      <th>0</th>\n",
       "      <td>2136689</td>\n",
       "      <td>201803</td>\n",
       "      <td>NaT</td>\n",
       "      <td>NaT</td>\n",
       "    </tr>\n",
       "    <tr>\n",
       "      <th>1</th>\n",
       "      <td>2136689</td>\n",
       "      <td>201803</td>\n",
       "      <td>NaT</td>\n",
       "      <td>NaT</td>\n",
       "    </tr>\n",
       "    <tr>\n",
       "      <th>2</th>\n",
       "      <td>2136689</td>\n",
       "      <td>201803</td>\n",
       "      <td>NaT</td>\n",
       "      <td>NaT</td>\n",
       "    </tr>\n",
       "    <tr>\n",
       "      <th>3</th>\n",
       "      <td>2136689</td>\n",
       "      <td>201803</td>\n",
       "      <td>NaT</td>\n",
       "      <td>NaT</td>\n",
       "    </tr>\n",
       "    <tr>\n",
       "      <th>4</th>\n",
       "      <td>2136689</td>\n",
       "      <td>201803</td>\n",
       "      <td>NaT</td>\n",
       "      <td>NaT</td>\n",
       "    </tr>\n",
       "    <tr>\n",
       "      <th>...</th>\n",
       "      <td>...</td>\n",
       "      <td>...</td>\n",
       "      <td>...</td>\n",
       "      <td>...</td>\n",
       "    </tr>\n",
       "    <tr>\n",
       "      <th>61842</th>\n",
       "      <td>2236079</td>\n",
       "      <td>202303</td>\n",
       "      <td>NaT</td>\n",
       "      <td>NaT</td>\n",
       "    </tr>\n",
       "    <tr>\n",
       "      <th>61843</th>\n",
       "      <td>2236229</td>\n",
       "      <td>202303</td>\n",
       "      <td>NaT</td>\n",
       "      <td>NaT</td>\n",
       "    </tr>\n",
       "    <tr>\n",
       "      <th>61844</th>\n",
       "      <td>2236496</td>\n",
       "      <td>202303</td>\n",
       "      <td>NaT</td>\n",
       "      <td>NaT</td>\n",
       "    </tr>\n",
       "    <tr>\n",
       "      <th>61845</th>\n",
       "      <td>2236497</td>\n",
       "      <td>202303</td>\n",
       "      <td>NaT</td>\n",
       "      <td>NaT</td>\n",
       "    </tr>\n",
       "    <tr>\n",
       "      <th>61846</th>\n",
       "      <td>2237170</td>\n",
       "      <td>202303</td>\n",
       "      <td>NaT</td>\n",
       "      <td>NaT</td>\n",
       "    </tr>\n",
       "  </tbody>\n",
       "</table>\n",
       "<p>61847 rows × 4 columns</p>\n",
       "</div>"
      ],
      "text/plain": [
       "       id_estudiante  periodo fecha_grado_x fecha_grado_y\n",
       "0            2136689   201803           NaT           NaT\n",
       "1            2136689   201803           NaT           NaT\n",
       "2            2136689   201803           NaT           NaT\n",
       "3            2136689   201803           NaT           NaT\n",
       "4            2136689   201803           NaT           NaT\n",
       "...              ...      ...           ...           ...\n",
       "61842        2236079   202303           NaT           NaT\n",
       "61843        2236229   202303           NaT           NaT\n",
       "61844        2236496   202303           NaT           NaT\n",
       "61845        2236497   202303           NaT           NaT\n",
       "61846        2237170   202303           NaT           NaT\n",
       "\n",
       "[61847 rows x 4 columns]"
      ]
     },
     "execution_count": 33,
     "metadata": {},
     "output_type": "execute_result"
    }
   ],
   "source": [
    "DATOS3"
   ]
  },
  {
   "cell_type": "code",
   "execution_count": null,
   "metadata": {},
   "outputs": [],
   "source": []
  }
 ],
 "metadata": {
  "kernelspec": {
   "display_name": "venv",
   "language": "python",
   "name": "python3"
  },
  "language_info": {
   "codemirror_mode": {
    "name": "ipython",
    "version": 3
   },
   "file_extension": ".py",
   "mimetype": "text/x-python",
   "name": "python",
   "nbconvert_exporter": "python",
   "pygments_lexer": "ipython3",
   "version": "3.9.6"
  },
  "orig_nbformat": 4
 },
 "nbformat": 4,
 "nbformat_minor": 2
}
