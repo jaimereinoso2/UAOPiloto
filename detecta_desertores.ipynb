{
 "cells": [
  {
   "cell_type": "markdown",
   "metadata": {},
   "source": [
    "## **UAOPiloto**\n",
    "Detección de estudiantes que van a desertar en 2 períodos.\n",
    "\n",
    "TABLAS BASE:  DATOS\n",
    "\n",
    "TABLAS MYSQL:\n",
    "1. estudiantes_limpio:  es la tabla ESTUDIANTE pero ahora si limpia\n",
    "2. periodosRegulares:   es la tabla de periodos y ya viene con un orden que me permite identificar \" los siguientes dos periodos\"\n",
    "3.  "
   ]
  },
  {
   "cell_type": "markdown",
   "metadata": {},
   "source": [
    "# **1.  Conexión a la base de datos**\n",
    "Nos conectamos a la base de datos MYSQL"
   ]
  },
  {
   "cell_type": "code",
   "execution_count": 40,
   "metadata": {},
   "outputs": [],
   "source": [
    "import pandas as pd\n",
    "from sqlalchemy import create_engine\n",
    "\n",
    "usuario = 'uaopiloto'\n",
    "contraseña = 'ap'\n",
    "host = 'localhost'  # Por ejemplo, 'localhost'\n",
    "base_de_datos = 'UAOPiloto'\n",
    "\n",
    "# Crea una cadena de conexión\n",
    "cadena_conexion = f'mysql+mysqlconnector://{usuario}:{contraseña}@{host}/{base_de_datos}'\n",
    "# Crea una instancia del motor SQLAlchemy\n",
    "motor = create_engine(cadena_conexion)"
   ]
  },
  {
   "cell_type": "markdown",
   "metadata": {},
   "source": [
    "# **2.  crear DATOS**\n",
    "\n",
    "Se crea DATOS a partir de DISTINCT EstudianteAsignatura(id_estudiante,periodo)"
   ]
  },
  {
   "cell_type": "code",
   "execution_count": 41,
   "metadata": {},
   "outputs": [],
   "source": [
    "query = \"\"\"\n",
    "    SELECT distinct id_estudiante, periodo\n",
    "    FROM estudianteAsignatura\n",
    "    ORDER BY id_estudiante, periodo\n",
    "\"\"\"\n",
    "DATOS = pd.read_sql(query, con=motor)\n",
    "\n",
    "# NOTA:  falta manejar el caso de cursos de verano...  cuándo marcar al estudainte como desertor?  \n",
    "# ERIK ya tiene la pregunta 20231009. R/  indica ERIK solo considerar períodos regulares"
   ]
  },
  {
   "cell_type": "markdown",
   "metadata": {},
   "source": [
    "### **2.1 adicionamos el primer periodo que hizo matricula**\n",
    "De la tabla EstudiantesMatriculas adicionamos el primer periodo en que el estudiante hizo su primer matricula\n",
    "EstudiantesMatriculas(id_estudiante, MIN(periodo))"
   ]
  },
  {
   "cell_type": "code",
   "execution_count": 42,
   "metadata": {},
   "outputs": [],
   "source": [
    "# adicionamos el primer periodo en que ese estudiante hizo una matricula\n",
    "query = \"\"\"\n",
    "    SELECT  id_estudiante, min(periodo) periodo_inicial\n",
    "    FROM estudianteAsignatura\n",
    "    WHERE periodo like '%1' or periodo like '%3'\n",
    "    GROUP BY id_estudiante\n",
    "\"\"\"\n",
    "temp = pd.read_sql(query, con=motor)\n",
    "# hacemos join entre DATOS y PRIMER_PERIODO para adicionar el periodo_inicial\n",
    "DATOS = DATOS.merge(temp, on=['id_estudiante'], how='left')"
   ]
  },
  {
   "cell_type": "markdown",
   "metadata": {},
   "source": [
    "### **2.2 Adicionamos fecha_grado, fecha_nacimiento, genero, colegio, ciudad_colegio**\n",
    "De la tabla Estudiantes_Limpia saco esta información por estudiante y la adicionamos a DATOS"
   ]
  },
  {
   "cell_type": "code",
   "execution_count": 43,
   "metadata": {},
   "outputs": [],
   "source": [
    "# ahora adicionamos el periodo de grado Y TODAS LAS COLUMNAS REQUERIDAS DESDE ESTUDIANTES_LIMPIO \n",
    "# pues ya hice todo el trabajo\n",
    "# de limpieza.\n",
    "\n",
    "query = \"\"\"\n",
    "    SELECT  id_estudiante, fecha_grado , fecha_nacimiento, genero, colegio, ciudad_colegio\n",
    "    FROM estudiantes_limpio\n",
    "\"\"\"\n",
    "temp = pd.read_sql(query, con=motor)\n",
    "\n",
    "# hacemos join con DATOS para adicionar la fecha de grado\n",
    "DATOS = DATOS.merge(temp, on=['id_estudiante'], how='left')"
   ]
  },
  {
   "cell_type": "markdown",
   "metadata": {},
   "source": [
    "### **2.3 adicionamos el número del periodo (periodo_orden)**\n",
    "\n",
    "en la tabla PERIODOS está el orden de cada periodo.  vamos a adicionarlos.\n"
   ]
  },
  {
   "cell_type": "code",
   "execution_count": 62,
   "metadata": {},
   "outputs": [],
   "source": [
    "query = \"\"\"\n",
    "    SELECT  pr.periodo, pr.orden periodo_orden, pr.fecha_inicio periodo_fi, pr.fecha_final periodo_ff\n",
    "    from periodosRegulares pr\n",
    "\"\"\"\n",
    "temp = pd.read_sql(query, con=motor)\n",
    "\n",
    "DATOS = DATOS.merge(temp, on=['periodo'], how='left')\n"
   ]
  },
  {
   "cell_type": "markdown",
   "metadata": {},
   "source": [
    "SALVEMOS DATOS para que no nos toque procesar lo anterior"
   ]
  },
  {
   "cell_type": "code",
   "execution_count": 65,
   "metadata": {},
   "outputs": [],
   "source": [
    "DATOS.to_excel('DATOS.xlsx')"
   ]
  },
  {
   "cell_type": "markdown",
   "metadata": {},
   "source": [
    "### **2.3 LABEL:  calculamos si dada una fila en d de DATOS, los siguientes 2 periodos no matriculó (ni se graduó)**\n",
    "\n",
    "Ahora procedemos a generar LABEL: 1- el estudiante desertó.  0- el estudiante no desertó\n",
    "\n",
    "hacemos un FOR en DATOS\n",
    "por cada d (en el periodo i)\n",
    "   miramos si i e i+1 tiene matricula: \n",
    "   si si:   lo marcamos como 0 -  \n",
    "   si no:  miramos si se graduó en i, i+1 o i+2.  \n",
    "           si si:  marcamos como 0\n",
    "           si no:  marcamos como 1\n",
    "   "
   ]
  },
  {
   "cell_type": "code",
   "execution_count": 2,
   "metadata": {},
   "outputs": [],
   "source": [
    "import pandas as pd\n",
    "from sqlalchemy import create_engine\n",
    "\n",
    "usuario = 'uaopiloto'\n",
    "contraseña = 'ap'\n",
    "host = 'localhost'  # Por ejemplo, 'localhost'\n",
    "base_de_datos = 'UAOPiloto'\n",
    "\n",
    "# Crea una cadena de conexión\n",
    "cadena_conexion = f'mysql+mysqlconnector://{usuario}:{contraseña}@{host}/{base_de_datos}'\n",
    "# Crea una instancia del motor SQLAlchemy\n",
    "motor = create_engine(cadena_conexion)\n",
    "DATOS = pd.read_excel('DATOS.xlsx')"
   ]
  },
  {
   "cell_type": "code",
   "execution_count": 3,
   "metadata": {},
   "outputs": [],
   "source": [
    "# el máximo periodo_orden es 12\n",
    "\n",
    "from datetime import datetime, timedelta\n",
    "\n",
    "DATOS['LABEL'] = -1   # asumimos que no se puede calcular\n",
    "\n",
    "for indice, d in DATOS.iterrows():\n",
    "    \n",
    "    id_estudiante = d['id_estudiante']\n",
    "    periodo_orden = d['periodo_orden']\n",
    "\n",
    "    # print(id_estudiante, periodo_orden,'fecha_grado:', d['fecha_grado'], 'periodo_fi:', d['periodo_fi'], d['periodo_fi'] + timedelta(days=365))\n",
    "\n",
    "\n",
    "    if periodo_orden >= 10:  # si es 11 o 12 no podemos aún calcular si si o si no\n",
    "        d['LABEL'] = -1\n",
    "        # print('     no se sabe')\n",
    "    else:\n",
    "        existe_periodo_1 =  DATOS[(DATOS['id_estudiante'] == id_estudiante) & (DATOS['periodo_orden'] == periodo_orden +1)]\n",
    "        existe_periodo_2 =  DATOS[(DATOS['id_estudiante'] == id_estudiante) & (DATOS['periodo_orden'] == periodo_orden +2)]\n",
    "\n",
    "        # si matriculo periodo 1 o periodo 2\n",
    "        if len(existe_periodo_1)>0 or len(existe_periodo_2)>0:\n",
    "            \n",
    "            # como matriculó al menos uno de los dos siguientes periodos, no es desertor.\n",
    "            DATOS.at[indice, 'LABEL'] = 0  \n",
    "\n",
    "        else: \n",
    "\n",
    "            # si entra aquí es porque no matriculo ninguno de los dos siguientes períodos\n",
    "\n",
    "            # si no tiene fecha de grado, es desertor.\n",
    "            if pd.isna(d['fecha_grado']):\n",
    "                DATOS.at[indice, 'LABEL'] = 1\n",
    "            else:  \n",
    "                \n",
    "                # si sí tiene fecha de grado, pero es posterior a 1 año, es desertor.\n",
    "                if d['fecha_grado'] > d['periodo_fi'] + timedelta(days=365):  \n",
    "                    DATOS.at[indice, 'LABEL'] = 1\n",
    "                else:\n",
    "                    # si la fecha de grado ocurre antes de un año, NO es desertor.\n",
    "                    DATOS.at[indice, 'LABEL'] = 0\n"
   ]
  },
  {
   "cell_type": "code",
   "execution_count": 4,
   "metadata": {},
   "outputs": [
    {
     "data": {
      "text/plain": [
       "Index(['Unnamed: 0', 'id_estudiante', 'periodo', 'periodo_inicial',\n",
       "       'fecha_grado', 'fecha_nacimiento', 'genero', 'colegio',\n",
       "       'ciudad_colegio', 'periodo_orden', 'periodo_fi', 'periodo_ff', 'LABEL'],\n",
       "      dtype='object')"
      ]
     },
     "execution_count": 4,
     "metadata": {},
     "output_type": "execute_result"
    }
   ],
   "source": [
    "DATOS.columns"
   ]
  },
  {
   "cell_type": "markdown",
   "metadata": {},
   "source": [
    "# **3.  Adicionar variables de interés**"
   ]
  },
  {
   "cell_type": "markdown",
   "metadata": {},
   "source": [
    "El excel HIPOTESIS vs VARIABLES va explicando qué variables se van a ir adicionando\n",
    "\n",
    "### **3.1 Resultados por áreas icfes**\n",
    "Se adiciona el resultado en cada área que obtuvo el estudiante, incluyendo el resultado en ICFES_ANTIGUO\n",
    "Si hay nulo se coloca -100"
   ]
  },
  {
   "cell_type": "code",
   "execution_count": 5,
   "metadata": {},
   "outputs": [],
   "source": [
    "query = \"\"\"\n",
    "    SELECT  id_estudiante, IFNULL(icfes_antiguo,-100) icfes_antiguo, IFNULL(biologia,-100) biologia, IFNULL(matematica,-100) matematica, \n",
    "\t\t\tIFNULL(filosofia,-100) filosofia, \n",
    "            IFNULL(fisica,-100) fisica, IFNULL(historia,-100) historia, IFNULL(quimica,-100) quimica, IFNULL(lenguaje,-100) lenguaje, \n",
    "            IFNULL(geografia,-100) geografia, IFNULL(idioma,-100) idioma, IFNULL(interdisciplinar,-100) interdisciplinar\n",
    "    FROM icfes;\n",
    "\"\"\"\n",
    "temp = pd.read_sql(query, con=motor)\n",
    "# hacemos join (temporal) contra datos y vamos a mirar cómo podemos agrupar cada variable frente a LABEL\n",
    "DATOS = DATOS.merge(temp, on=['id_estudiante'], how='left')"
   ]
  },
  {
   "cell_type": "markdown",
   "metadata": {},
   "source": [
    "### **3.2 Distribución notas obtenidas semestres anteriores**\n",
    "\n",
    "Para poder obtener esta información correctamente es conveniente NORMALIZAR la tabla EstudianteAsignatura\n",
    "en 3 tablas:\n",
    "\n",
    "EstudianteAsignatura:  info del estudiante y la asignatura que matrículo. PK= (periodo, id_estudiante, cod_asig) \n",
    "EA_grupo:  que tiene como pk (periodo, id_estudiante, cod_asig, grupo)\n",
    "EA_docentes:  que tiene como pk (periodo, id_estudiante, cod_asig, grupo, cedula)\n",
    "\n",
    "Y también se creó la columna nivel_nota en estudianteasignatura que nos dice cuantas de ese tipo sacó. \n",
    "if definitiva null ->  nivel_nota = -1\n",
    "if definitiva menor a 3.0 -> nivel_nota = 1\n",
    "if definitiva entre 3 y menor a 3.8 -> nivel_nota = 2\n",
    "if definitiva mayor o igual a 3.8 -> nivel_nota = 3\n",
    "\n",
    "por cada fila d en DATOS:\n",
    "   obtener la cantidad de notas nulas, bajas, medias, altas que obtuvo en períodos anteriores"
   ]
  },
  {
   "cell_type": "code",
   "execution_count": 6,
   "metadata": {},
   "outputs": [
    {
     "name": "stdout",
     "output_type": "stream",
     "text": [
      "Index(['id_estudiante', 'periodo', 'periodo_orden', 'nivel_nota', 'cuantas'], dtype='object')\n"
     ]
    }
   ],
   "source": [
    "query = \"\"\"\n",
    "    SELECT  ae.id_estudiante, ae.periodo, pr.orden periodo_orden, ae.nivel_nota, count(*) cuantas\n",
    "    FROM estudianteasignatura ae, periodosregulares pr\n",
    "    WHERE pr.periodo = ae.periodo\n",
    "    group by ae.id_estudiante, ae.periodo, pr.orden, ae.nivel_nota\n",
    "\"\"\"\n",
    "temp = pd.read_sql(query, con=motor)\n",
    "\n",
    "# temp = temp.pivot(index=[\"id_estudiante\", \"orden\"], columns=\"nivel_nota\", values=\"cuantas\").reset_index()\n",
    "# temp = temp.fillna(0)\n",
    "print(temp.columns)\n"
   ]
  },
  {
   "cell_type": "code",
   "execution_count": 7,
   "metadata": {},
   "outputs": [
    {
     "data": {
      "text/plain": [
       "Index(['Unnamed: 0', 'id_estudiante', 'periodo', 'periodo_inicial',\n",
       "       'fecha_grado', 'fecha_nacimiento', 'genero', 'colegio',\n",
       "       'ciudad_colegio', 'periodo_orden', 'periodo_fi', 'periodo_ff', 'LABEL',\n",
       "       'icfes_antiguo', 'biologia', 'matematica', 'filosofia', 'fisica',\n",
       "       'historia', 'quimica', 'lenguaje', 'geografia', 'idioma',\n",
       "       'interdisciplinar'],\n",
       "      dtype='object')"
      ]
     },
     "execution_count": 7,
     "metadata": {},
     "output_type": "execute_result"
    }
   ],
   "source": [
    "DATOS.columns"
   ]
  },
  {
   "cell_type": "code",
   "execution_count": 8,
   "metadata": {},
   "outputs": [
    {
     "data": {
      "text/html": [
       "<div>\n",
       "<style scoped>\n",
       "    .dataframe tbody tr th:only-of-type {\n",
       "        vertical-align: middle;\n",
       "    }\n",
       "\n",
       "    .dataframe tbody tr th {\n",
       "        vertical-align: top;\n",
       "    }\n",
       "\n",
       "    .dataframe thead th {\n",
       "        text-align: right;\n",
       "    }\n",
       "</style>\n",
       "<table border=\"1\" class=\"dataframe\">\n",
       "  <thead>\n",
       "    <tr style=\"text-align: right;\">\n",
       "      <th>nivel_nota</th>\n",
       "      <th>id_estudiante</th>\n",
       "      <th>periodo</th>\n",
       "      <th>nivel_menos_1</th>\n",
       "      <th>nivel_1</th>\n",
       "      <th>nivel_2</th>\n",
       "      <th>nivel_3</th>\n",
       "    </tr>\n",
       "  </thead>\n",
       "  <tbody>\n",
       "    <tr>\n",
       "      <th>0</th>\n",
       "      <td>2157111</td>\n",
       "      <td>201803</td>\n",
       "      <td>0.0</td>\n",
       "      <td>0.0</td>\n",
       "      <td>1.0</td>\n",
       "      <td>5.0</td>\n",
       "    </tr>\n",
       "    <tr>\n",
       "      <th>1</th>\n",
       "      <td>2157111</td>\n",
       "      <td>201901</td>\n",
       "      <td>0.0</td>\n",
       "      <td>0.0</td>\n",
       "      <td>1.0</td>\n",
       "      <td>11.0</td>\n",
       "    </tr>\n",
       "    <tr>\n",
       "      <th>2</th>\n",
       "      <td>2157129</td>\n",
       "      <td>201803</td>\n",
       "      <td>0.0</td>\n",
       "      <td>0.0</td>\n",
       "      <td>0.0</td>\n",
       "      <td>6.0</td>\n",
       "    </tr>\n",
       "    <tr>\n",
       "      <th>3</th>\n",
       "      <td>2157129</td>\n",
       "      <td>201901</td>\n",
       "      <td>0.0</td>\n",
       "      <td>0.0</td>\n",
       "      <td>1.0</td>\n",
       "      <td>11.0</td>\n",
       "    </tr>\n",
       "    <tr>\n",
       "      <th>4</th>\n",
       "      <td>2157130</td>\n",
       "      <td>201803</td>\n",
       "      <td>0.0</td>\n",
       "      <td>0.0</td>\n",
       "      <td>0.0</td>\n",
       "      <td>6.0</td>\n",
       "    </tr>\n",
       "    <tr>\n",
       "      <th>...</th>\n",
       "      <td>...</td>\n",
       "      <td>...</td>\n",
       "      <td>...</td>\n",
       "      <td>...</td>\n",
       "      <td>...</td>\n",
       "      <td>...</td>\n",
       "    </tr>\n",
       "    <tr>\n",
       "      <th>585</th>\n",
       "      <td>2231780</td>\n",
       "      <td>202303</td>\n",
       "      <td>0.0</td>\n",
       "      <td>0.0</td>\n",
       "      <td>1.0</td>\n",
       "      <td>7.0</td>\n",
       "    </tr>\n",
       "    <tr>\n",
       "      <th>586</th>\n",
       "      <td>2231781</td>\n",
       "      <td>202303</td>\n",
       "      <td>0.0</td>\n",
       "      <td>0.0</td>\n",
       "      <td>0.0</td>\n",
       "      <td>8.0</td>\n",
       "    </tr>\n",
       "    <tr>\n",
       "      <th>587</th>\n",
       "      <td>2231877</td>\n",
       "      <td>202303</td>\n",
       "      <td>0.0</td>\n",
       "      <td>0.0</td>\n",
       "      <td>5.0</td>\n",
       "      <td>3.0</td>\n",
       "    </tr>\n",
       "    <tr>\n",
       "      <th>588</th>\n",
       "      <td>2232058</td>\n",
       "      <td>202303</td>\n",
       "      <td>0.0</td>\n",
       "      <td>0.0</td>\n",
       "      <td>1.0</td>\n",
       "      <td>7.0</td>\n",
       "    </tr>\n",
       "    <tr>\n",
       "      <th>589</th>\n",
       "      <td>2232126</td>\n",
       "      <td>202303</td>\n",
       "      <td>0.0</td>\n",
       "      <td>0.0</td>\n",
       "      <td>2.0</td>\n",
       "      <td>6.0</td>\n",
       "    </tr>\n",
       "  </tbody>\n",
       "</table>\n",
       "<p>590 rows × 6 columns</p>\n",
       "</div>"
      ],
      "text/plain": [
       "nivel_nota  id_estudiante  periodo  nivel_menos_1  nivel_1  nivel_2  nivel_3\n",
       "0                 2157111   201803            0.0      0.0      1.0      5.0\n",
       "1                 2157111   201901            0.0      0.0      1.0     11.0\n",
       "2                 2157129   201803            0.0      0.0      0.0      6.0\n",
       "3                 2157129   201901            0.0      0.0      1.0     11.0\n",
       "4                 2157130   201803            0.0      0.0      0.0      6.0\n",
       "..                    ...      ...            ...      ...      ...      ...\n",
       "585               2231780   202303            0.0      0.0      1.0      7.0\n",
       "586               2231781   202303            0.0      0.0      0.0      8.0\n",
       "587               2231877   202303            0.0      0.0      5.0      3.0\n",
       "588               2232058   202303            0.0      0.0      1.0      7.0\n",
       "589               2232126   202303            0.0      0.0      2.0      6.0\n",
       "\n",
       "[590 rows x 6 columns]"
      ]
     },
     "execution_count": 8,
     "metadata": {},
     "output_type": "execute_result"
    }
   ],
   "source": [
    "# seleccionarmos solo id_estudiante, periodo y periodo_orden de DATOS\n",
    "temp2 = DATOS[['id_estudiante','periodo','periodo_orden']]\n",
    "\n",
    "# hacemos left join con temp\n",
    "temp2 = temp2.merge(temp, on=['id_estudiante'], how='left')\n",
    "\n",
    "# dejamos solo las filas donde periodo_orden_x > periodo_orden_y pues queremos mirar al periodo cuantas\n",
    "# materias tuvo sin nota, cuantas tuvo con nivel 1, cuantas con nivel 2 y cuantas con nivel 3 de periodos\n",
    "# anteriores\n",
    "temp2 = temp2[temp2['periodo_orden_x'] > temp2['periodo_orden_y']]\n",
    "\n",
    "# ahora agrupamos para saber el total de materias con nulo, 1,2 o 4 de periodos anteriores.\n",
    "temp2 = temp2.groupby(['id_estudiante','periodo_x','nivel_nota'])['cuantas'].sum().reset_index()\n",
    "\n",
    "# pivoteamos\n",
    "temp2 = temp2.pivot(index=['id_estudiante','periodo_x'], columns='nivel_nota', values='cuantas').reset_index()\n",
    "\n",
    "# renombramos y llenamos con ceros\n",
    "temp2 = temp2.rename(columns={'periodo_x':'periodo', '-1':'nivel_menos_1','1':'nivel_1','2':'nivel_2','3':'nivel_3'})\n",
    "temp2 = temp2.fillna(0)\n",
    "temp2"
   ]
  },
  {
   "cell_type": "code",
   "execution_count": 9,
   "metadata": {},
   "outputs": [],
   "source": [
    "# ahora hacemos el join con DATOS\n",
    "DATOS = DATOS.merge(temp2, on=['id_estudiante','periodo'], how='left')\n",
    "DATOS = DATOS.fillna(0)\n"
   ]
  },
  {
   "cell_type": "markdown",
   "metadata": {},
   "source": [
    "### **3.3 cantidad de cursos extracurriculares tomados antes**\n",
    "\n",
    "Ahora calculamos cuántos cursos extracurriculares había tomado antes del periodo actual"
   ]
  },
  {
   "cell_type": "code",
   "execution_count": 12,
   "metadata": {},
   "outputs": [
    {
     "name": "stdout",
     "output_type": "stream",
     "text": [
      "Empty DataFrame\n",
      "Columns: [identificacion, fecha_asistencia, tipo]\n",
      "Index: []\n"
     ]
    }
   ],
   "source": [
    "query = \"\"\"\n",
    "    SELECT   ea.identificacion, ea.fecha_asistencia, a.tipo\n",
    "    from estudiantesactividades ea, actividades a\n",
    "    where a.nombre = ea.nombre_actividad\n",
    "\"\"\"\n",
    "temp = pd.read_sql(query, con=motor)\n",
    "\n",
    "print(temp)"
   ]
  },
  {
   "cell_type": "code",
   "execution_count": null,
   "metadata": {},
   "outputs": [],
   "source": []
  }
 ],
 "metadata": {
  "kernelspec": {
   "display_name": "venv",
   "language": "python",
   "name": "python3"
  },
  "language_info": {
   "codemirror_mode": {
    "name": "ipython",
    "version": 3
   },
   "file_extension": ".py",
   "mimetype": "text/x-python",
   "name": "python",
   "nbconvert_exporter": "python",
   "pygments_lexer": "ipython3",
   "version": "3.9.6"
  },
  "orig_nbformat": 4
 },
 "nbformat": 4,
 "nbformat_minor": 2
}
