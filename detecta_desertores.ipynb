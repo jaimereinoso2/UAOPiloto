{
 "cells": [
  {
   "cell_type": "markdown",
   "metadata": {},
   "source": [
    "## **UAOPiloto**\n",
    "Detección de estudiantes que van a desertar en 2 períodos.\n",
    "\n",
    "TABLAS BASE:  DATOS\n",
    "\n",
    "TABLAS MYSQL:\n",
    "1. estudiantes_limpio:  es la tabla ESTUDIANTE pero ahora si limpia\n",
    "2. periodosRegulares:   es la tabla de periodos y ya viene con un orden que me permite identificar \" los siguientes dos periodos\"\n",
    "3.  "
   ]
  },
  {
   "cell_type": "markdown",
   "metadata": {},
   "source": [
    "### **1.  Conexión a la base de datos**\n",
    "Nos conectamos a la base de datos MYSQL"
   ]
  },
  {
   "cell_type": "code",
   "execution_count": 40,
   "metadata": {},
   "outputs": [],
   "source": [
    "import pandas as pd\n",
    "from sqlalchemy import create_engine\n",
    "\n",
    "usuario = 'uaopiloto'\n",
    "contraseña = 'ap'\n",
    "host = 'localhost'  # Por ejemplo, 'localhost'\n",
    "base_de_datos = 'UAOPiloto'\n",
    "\n",
    "# Crea una cadena de conexión\n",
    "cadena_conexion = f'mysql+mysqlconnector://{usuario}:{contraseña}@{host}/{base_de_datos}'\n",
    "# Crea una instancia del motor SQLAlchemy\n",
    "motor = create_engine(cadena_conexion)"
   ]
  },
  {
   "cell_type": "markdown",
   "metadata": {},
   "source": [
    "### **2.  crear DATOS\n",
    "\n",
    "Se crea DATOS a partir de DISTINCT EstudianteAsignatura(id_estudiante,periodo)"
   ]
  },
  {
   "cell_type": "code",
   "execution_count": 41,
   "metadata": {},
   "outputs": [],
   "source": [
    "query = \"\"\"\n",
    "    SELECT distinct id_estudiante, periodo\n",
    "    FROM estudianteAsignatura\n",
    "    ORDER BY id_estudiante, periodo\n",
    "\"\"\"\n",
    "DATOS = pd.read_sql(query, con=motor)\n",
    "\n",
    "# NOTA:  falta manejar el caso de cursos de verano...  cuándo marcar al estudainte como desertor?  \n",
    "# ERIK ya tiene la pregunta 20231009. R/  indica ERIK solo considerar períodos regulares"
   ]
  },
  {
   "cell_type": "markdown",
   "metadata": {},
   "source": [
    "### **2.1 adicionamos el primer periodo que hizo matricula**\n",
    "De la tabla EstudiantesMatriculas adicionamos el primer periodo en que el estudiante hizo su priemra matricula\n",
    "EstudiantesMatriculas(id_estudiante, MIN(periodo))"
   ]
  },
  {
   "cell_type": "code",
   "execution_count": 42,
   "metadata": {},
   "outputs": [],
   "source": [
    "# adicionamos el primer periodo en que ese estudiante hizo una matricula\n",
    "query = \"\"\"\n",
    "    SELECT  id_estudiante, min(periodo) periodo_inicial\n",
    "    FROM EstudiantesMatriculas\n",
    "    WHERE periodo like '%1' or periodo like '%3'\n",
    "    GROUP BY id_estudiante\n",
    "\"\"\"\n",
    "temp = pd.read_sql(query, con=motor)\n",
    "# hacemos join entre DATOS y PRIMER_PERIODO para adicionar el periodo_inicial\n",
    "DATOS = DATOS.merge(temp, on=['id_estudiante'], how='left')"
   ]
  },
  {
   "cell_type": "markdown",
   "metadata": {},
   "source": [
    "### **2.2 Adicionamos fecha_grado, fecha_nacimiento, genero, colegio, ciudad_colegio**\n",
    "De la tabla Estudiantes_Limpia saco esta información por estudiante y la adicionamos a DATOS"
   ]
  },
  {
   "cell_type": "code",
   "execution_count": 43,
   "metadata": {},
   "outputs": [],
   "source": [
    "# ahora adicionamos el periodo de grado Y TODAS LAS COLUMNAS REQUERIDAS DESDE ESTUDIANTES_LIMPIO \n",
    "# pues ya hice todo el trabajo\n",
    "# de limpieza.\n",
    "\n",
    "query = \"\"\"\n",
    "    SELECT  id_estudiante, fecha_grado , fecha_nacimiento, genero, colegio, ciudad_colegio\n",
    "    FROM estudiantes_limpio\n",
    "\"\"\"\n",
    "temp = pd.read_sql(query, con=motor)\n",
    "\n",
    "# hacemos join con DATOS para adicionar la fecha de grado\n",
    "DATOS = DATOS.merge(temp, on=['id_estudiante'], how='left')"
   ]
  },
  {
   "cell_type": "markdown",
   "metadata": {},
   "source": [
    "### **2.3 adicionamos el número del periodo (periodo_orden)**\n",
    "\n",
    "en la tabla PERIODOS está el orden de cada periodo.  vamos a adicionarlos.\n"
   ]
  },
  {
   "cell_type": "code",
   "execution_count": 62,
   "metadata": {},
   "outputs": [],
   "source": [
    "query = \"\"\"\n",
    "    SELECT  pr.periodo, pr.orden periodo_orden, pr.fecha_inicio periodo_fi, pr.fecha_final periodo_ff\n",
    "    from periodosRegulares pr\n",
    "\"\"\"\n",
    "temp = pd.read_sql(query, con=motor)\n",
    "\n",
    "DATOS = DATOS.merge(temp, on=['periodo'], how='left')\n"
   ]
  },
  {
   "cell_type": "code",
   "execution_count": 63,
   "metadata": {},
   "outputs": [
    {
     "data": {
      "text/plain": [
       "Index(['id_estudiante', 'periodo', 'periodo_inicial', 'fecha_grado',\n",
       "       'fecha_nacimiento', 'genero', 'colegio', 'ciudad_colegio',\n",
       "       'periodo_orden', 'periodo_fi', 'periodo_ff'],\n",
       "      dtype='object')"
      ]
     },
     "execution_count": 63,
     "metadata": {},
     "output_type": "execute_result"
    }
   ],
   "source": [
    "DATOS.columns"
   ]
  },
  {
   "cell_type": "code",
   "execution_count": 64,
   "metadata": {},
   "outputs": [
    {
     "data": {
      "text/plain": [
       "0            None\n",
       "1      2018-12-01\n",
       "2            None\n",
       "3      2019-04-06\n",
       "4            None\n",
       "          ...    \n",
       "827          None\n",
       "828          None\n",
       "829          None\n",
       "830          None\n",
       "831          None\n",
       "Name: fecha_grado, Length: 832, dtype: object"
      ]
     },
     "execution_count": 64,
     "metadata": {},
     "output_type": "execute_result"
    }
   ],
   "source": [
    "DATOS['fecha_grado']"
   ]
  },
  {
   "cell_type": "markdown",
   "metadata": {},
   "source": [
    "SALVEMOS DATOS para que no nos toque procesar lo anterior"
   ]
  },
  {
   "cell_type": "code",
   "execution_count": 65,
   "metadata": {},
   "outputs": [],
   "source": [
    "DATOS.to_excel('DATOS.xlsx')"
   ]
  },
  {
   "cell_type": "markdown",
   "metadata": {},
   "source": [
    "### **2.3 Ahora si calculamos si dada una fila en d de DATOS, los siguientes 2 periodos no matriculó (ni se graduó)**\n",
    "\n",
    "Ahora procedemos a generar LABEL: 1- el estudiante desertó.  0- el estudiante no desertó\n",
    "\n",
    "hacemos un FOR en DATOS\n",
    "por cada d (en el periodo i)\n",
    "   miramos si i e i+1 tiene matricula: \n",
    "   si si:   lo marcamos como 0 -  \n",
    "   si no:  miramos si se graduó en i, i+1 o i+2.  \n",
    "           si si:  marcamos como 0\n",
    "           si no:  marcamos como 1\n",
    "   "
   ]
  },
  {
   "cell_type": "code",
   "execution_count": 67,
   "metadata": {},
   "outputs": [],
   "source": [
    "DATOS = pd.read_excel('DATOS.xlsx')"
   ]
  },
  {
   "cell_type": "code",
   "execution_count": 99,
   "metadata": {},
   "outputs": [],
   "source": [
    "# el máximo periodo_orden es 12\n",
    "\n",
    "from datetime import datetime, timedelta\n",
    "\n",
    "DATOS['LABEL'] = -1   # asumimos que no se puede calcular\n",
    "\n",
    "for indice, d in DATOS.iterrows():\n",
    "    \n",
    "    id_estudiante = d['id_estudiante']\n",
    "    periodo_orden = d['periodo_orden']\n",
    "\n",
    "    # print(id_estudiante, periodo_orden,'fecha_grado:', d['fecha_grado'], 'periodo_fi:', d['periodo_fi'], d['periodo_fi'] + timedelta(days=365))\n",
    "\n",
    "\n",
    "    if periodo_orden >= 10:  # si es 11 o 12 no podemos aún calcular si si o si no\n",
    "        d['LABEL'] = -1\n",
    "        # print('     no se sabe')\n",
    "    else:\n",
    "        existe_periodo_1 =  DATOS[(DATOS['id_estudiante'] == id_estudiante) & (DATOS['periodo_orden'] == periodo_orden +1)]\n",
    "        existe_periodo_2 =  DATOS[(DATOS['id_estudiante'] == id_estudiante) & (DATOS['periodo_orden'] == periodo_orden +2)]\n",
    "\n",
    "        # print('sem1:', len(existe_periodo_1), 'sem2:', len(existe_periodo_2))\n",
    "        if len(existe_periodo_1)>0 or len(existe_periodo_2)>0:\n",
    "            \n",
    "            # print('     NO desertor')\n",
    "            d['LABEL'] = 0  # si matriculó alguno de los dos periodos siguientes, NO es desertor.\n",
    "\n",
    "        else: \n",
    "\n",
    "            if pd.isna(d['fecha_grado']):\n",
    "\n",
    "                d['LABEL'] = 1  # si no tiene fecha de grado -> desertor\n",
    "                # print('     DESERTOR')\n",
    "            else:  \n",
    "                \n",
    "                if d['fecha_grado'] > d['periodo_fi'] + timedelta(days=365):  \n",
    "                    d['LABEL'] = 1  # si tiene fecha de grado y es mayor a dos semestres es desertor\n",
    "                    # print('  DESERTOR')\n",
    "                else:\n",
    "                    d['LABEL'] = 0   # auque no matriculo 2 siguientes semestres, se graduó antes del año. NO es desertor\n",
    "                    # print('     NO desertor')\n"
   ]
  },
  {
   "cell_type": "code",
   "execution_count": 100,
   "metadata": {},
   "outputs": [
    {
     "data": {
      "text/plain": [
       "Index(['Unnamed: 0', 'id_estudiante', 'periodo', 'periodo_inicial',\n",
       "       'fecha_grado', 'fecha_nacimiento', 'genero', 'colegio',\n",
       "       'ciudad_colegio', 'periodo_orden', 'periodo_fi', 'periodo_ff', 'LABEL'],\n",
       "      dtype='object')"
      ]
     },
     "execution_count": 100,
     "metadata": {},
     "output_type": "execute_result"
    }
   ],
   "source": [
    "DATOS.columns"
   ]
  },
  {
   "cell_type": "code",
   "execution_count": 102,
   "metadata": {},
   "outputs": [
    {
     "data": {
      "text/plain": [
       "LABEL\n",
       "-1    832\n",
       "Name: count, dtype: int64"
      ]
     },
     "execution_count": 102,
     "metadata": {},
     "output_type": "execute_result"
    }
   ],
   "source": [
    "DATOS['LABEL'].value_counts()"
   ]
  },
  {
   "cell_type": "code",
   "execution_count": null,
   "metadata": {},
   "outputs": [],
   "source": []
  }
 ],
 "metadata": {
  "kernelspec": {
   "display_name": "venv",
   "language": "python",
   "name": "python3"
  },
  "language_info": {
   "codemirror_mode": {
    "name": "ipython",
    "version": 3
   },
   "file_extension": ".py",
   "mimetype": "text/x-python",
   "name": "python",
   "nbconvert_exporter": "python",
   "pygments_lexer": "ipython3",
   "version": "3.9.6"
  },
  "orig_nbformat": 4
 },
 "nbformat": 4,
 "nbformat_minor": 2
}
