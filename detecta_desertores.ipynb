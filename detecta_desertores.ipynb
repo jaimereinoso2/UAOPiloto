{
 "cells": [
  {
   "cell_type": "code",
   "execution_count": 2,
   "metadata": {},
   "outputs": [],
   "source": [
    "import pandas as pd\n",
    "from sqlalchemy import create_engine\n",
    "\n",
    "usuario = 'uaopiloto'\n",
    "contraseña = 'ap'\n",
    "host = 'localhost'  # Por ejemplo, 'localhost'\n",
    "base_de_datos = 'UAOPiloto'\n",
    "\n",
    "# Crea una cadena de conexión\n",
    "cadena_conexion = f'mysql+mysqlconnector://{usuario}:{contraseña}@{host}/{base_de_datos}'\n",
    "# Crea una instancia del motor SQLAlchemy\n",
    "motor = create_engine(cadena_conexion)"
   ]
  },
  {
   "cell_type": "code",
   "execution_count": 3,
   "metadata": {},
   "outputs": [
    {
     "name": "stdout",
     "output_type": "stream",
     "text": [
      "periodos:     periodo\n",
      "0    201801\n",
      "1    201803\n",
      "2    201901\n",
      "3    201903\n",
      "4    202001\n",
      "5    202003\n",
      "6    202101\n",
      "7    202103\n",
      "8    202201\n",
      "9    202203\n",
      "10   202301\n",
      "11   202303\n"
     ]
    }
   ],
   "source": [
    "periodos = pd.read_sql('SELECT distinct periodo FROM MATRICULAS ORDER BY periodo', con=motor)\n",
    "print('periodos:', periodos)\n",
    "\n",
    "# se observa que todos los períodos terminan 1 y 3, que son los que hay que \n",
    "# verificar si un estudiando estuvo en al menos 2 seguidos sin matricularse y sin graduarse."
   ]
  },
  {
   "cell_type": "code",
   "execution_count": 5,
   "metadata": {},
   "outputs": [
    {
     "name": "stdout",
     "output_type": "stream",
     "text": [
      "estudiantes:      id_estudiante\n",
      "0          2136689\n",
      "1          2146669\n",
      "2          2146707\n",
      "3          2146709\n",
      "4          2146710\n",
      "..             ...\n",
      "237        2236079\n",
      "238        2236229\n",
      "239        2236496\n",
      "240        2236497\n",
      "241        2237170\n",
      "\n",
      "[242 rows x 1 columns]\n"
     ]
    }
   ],
   "source": [
    "estudiantes = pd.read_sql('SELECT distinct id_estudiante FROM MATRICULAS ORDER BY id_estudiante', con=motor)\n",
    "print('estudiantes:', estudiantes)"
   ]
  },
  {
   "cell_type": "code",
   "execution_count": 6,
   "metadata": {},
   "outputs": [
    {
     "name": "stdout",
     "output_type": "stream",
     "text": [
      "matriculas:       periodo  id_estudiante\n",
      "0      201801        2175510\n",
      "1      201801        2175510\n",
      "2      201801        2175510\n",
      "3      201801        2175510\n",
      "4      201801        2175510\n",
      "...       ...            ...\n",
      "7291   201803        2185767\n",
      "7292   201803        2185767\n",
      "7293   201803        2185767\n",
      "7294   201803        2185767\n",
      "7295   201803        2185767\n",
      "\n",
      "[7296 rows x 2 columns]\n"
     ]
    }
   ],
   "source": [
    "matriculas = pd.read_sql('SELECT periodo, id_estudiante FROM MATRICULAS', con=motor)\n",
    "print('matriculas:', matriculas)"
   ]
  },
  {
   "cell_type": "code",
   "execution_count": 13,
   "metadata": {},
   "outputs": [
    {
     "name": "stdout",
     "output_type": "stream",
     "text": [
      "   periodo\n",
      "0   201801\n",
      "primer: 201801\n"
     ]
    }
   ],
   "source": [
    "# armamos matriz estudiantes x periodo.   1 si matrículo, 0 si no.\n",
    "\n",
    "for e in estudiantes:\n",
    "\n",
    "    # obtenemos el primer periodo en que hizo matricula\n",
    "    respuesta = pd.read_sql('SELECT min(periodo) periodo FROM MATRICULAS where id_estudiante = '+ e, con=motor)\n",
    "    print(respuesta)\n",
    "\n",
    "    primer_periodo=respuesta.iloc[0,0]\n",
    "\n",
    "    for p in \n",
    "\n",
    "        \n"
   ]
  }
 ],
 "metadata": {
  "kernelspec": {
   "display_name": "venv",
   "language": "python",
   "name": "python3"
  },
  "language_info": {
   "codemirror_mode": {
    "name": "ipython",
    "version": 3
   },
   "file_extension": ".py",
   "mimetype": "text/x-python",
   "name": "python",
   "nbconvert_exporter": "python",
   "pygments_lexer": "ipython3",
   "version": "3.9.6"
  },
  "orig_nbformat": 4
 },
 "nbformat": 4,
 "nbformat_minor": 2
}
