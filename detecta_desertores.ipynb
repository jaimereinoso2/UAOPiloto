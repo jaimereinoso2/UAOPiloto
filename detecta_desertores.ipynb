{
 "cells": [
  {
   "cell_type": "markdown",
   "metadata": {},
   "source": [
    "## **UAOPiloto**\n",
    "Detección de estudiantes que van a desertar en 2 períodos.\n",
    "\n",
    "TABLAS BASE:  DATOS\n",
    "\n",
    "TABLAS MYSQL:\n",
    "1. estudiantes_limpio:  es la tabla ESTUDIANTE pero ahora si limpia\n",
    "2. periodosRegulares:   es la tabla de periodos y ya viene con un orden que me permite identificar \" los siguientes dos periodos\"\n",
    "3.  "
   ]
  },
  {
   "cell_type": "markdown",
   "metadata": {},
   "source": [
    "# **1.  Conexión a la base de datos**\n",
    "Nos conectamos a la base de datos MYSQL"
   ]
  },
  {
   "cell_type": "code",
   "execution_count": 40,
   "metadata": {},
   "outputs": [],
   "source": [
    "import pandas as pd\n",
    "from sqlalchemy import create_engine\n",
    "\n",
    "usuario = 'uaopiloto'\n",
    "contraseña = 'ap'\n",
    "host = 'localhost'  # Por ejemplo, 'localhost'\n",
    "base_de_datos = 'UAOPiloto'\n",
    "\n",
    "# Crea una cadena de conexión\n",
    "cadena_conexion = f'mysql+mysqlconnector://{usuario}:{contraseña}@{host}/{base_de_datos}'\n",
    "# Crea una instancia del motor SQLAlchemy\n",
    "motor = create_engine(cadena_conexion)"
   ]
  },
  {
   "cell_type": "markdown",
   "metadata": {},
   "source": [
    "# **2.  crear DATOS**\n",
    "\n",
    "Se crea DATOS a partir de DISTINCT EstudianteAsignatura(id_estudiante,periodo)"
   ]
  },
  {
   "cell_type": "code",
   "execution_count": 41,
   "metadata": {},
   "outputs": [],
   "source": [
    "query = \"\"\"\n",
    "    SELECT distinct id_estudiante, periodo\n",
    "    FROM estudianteAsignatura\n",
    "    ORDER BY id_estudiante, periodo\n",
    "\"\"\"\n",
    "DATOS = pd.read_sql(query, con=motor)\n",
    "\n",
    "# NOTA:  falta manejar el caso de cursos de verano...  cuándo marcar al estudainte como desertor?  \n",
    "# ERIK ya tiene la pregunta 20231009. R/  indica ERIK solo considerar períodos regulares"
   ]
  },
  {
   "cell_type": "markdown",
   "metadata": {},
   "source": [
    "### **2.1 adicionamos el primer periodo que hizo matricula**\n",
    "De la tabla EstudiantesMatriculas adicionamos el primer periodo en que el estudiante hizo su primer matricula\n",
    "EstudiantesMatriculas(id_estudiante, MIN(periodo))"
   ]
  },
  {
   "cell_type": "code",
   "execution_count": 42,
   "metadata": {},
   "outputs": [],
   "source": [
    "# adicionamos el primer periodo en que ese estudiante hizo una matricula\n",
    "query = \"\"\"\n",
    "    SELECT  id_estudiante, min(periodo) periodo_inicial\n",
    "    FROM estudianteAsignatura\n",
    "    WHERE periodo like '%1' or periodo like '%3'\n",
    "    GROUP BY id_estudiante\n",
    "\"\"\"\n",
    "temp = pd.read_sql(query, con=motor)\n",
    "# hacemos join entre DATOS y PRIMER_PERIODO para adicionar el periodo_inicial\n",
    "DATOS = DATOS.merge(temp, on=['id_estudiante'], how='left')"
   ]
  },
  {
   "cell_type": "markdown",
   "metadata": {},
   "source": [
    "### **2.2 Adicionamos fecha_grado, fecha_nacimiento, genero, colegio, ciudad_colegio**\n",
    "De la tabla Estudiantes_Limpia saco esta información por estudiante y la adicionamos a DATOS"
   ]
  },
  {
   "cell_type": "code",
   "execution_count": 43,
   "metadata": {},
   "outputs": [],
   "source": [
    "# ahora adicionamos el periodo de grado Y TODAS LAS COLUMNAS REQUERIDAS DESDE ESTUDIANTES_LIMPIO \n",
    "# pues ya hice todo el trabajo\n",
    "# de limpieza.\n",
    "\n",
    "query = \"\"\"\n",
    "    SELECT  id_estudiante, fecha_grado , fecha_nacimiento, genero, colegio, ciudad_colegio\n",
    "    FROM estudiantes_limpio\n",
    "\"\"\"\n",
    "temp = pd.read_sql(query, con=motor)\n",
    "\n",
    "# hacemos join con DATOS para adicionar la fecha de grado\n",
    "DATOS = DATOS.merge(temp, on=['id_estudiante'], how='left')"
   ]
  },
  {
   "cell_type": "markdown",
   "metadata": {},
   "source": [
    "### **2.3 adicionamos el número del periodo (periodo_orden)**\n",
    "\n",
    "en la tabla PERIODOS está el orden de cada periodo.  vamos a adicionarlos.\n"
   ]
  },
  {
   "cell_type": "code",
   "execution_count": 62,
   "metadata": {},
   "outputs": [],
   "source": [
    "query = \"\"\"\n",
    "    SELECT  pr.periodo, pr.orden periodo_orden, pr.fecha_inicio periodo_fi, pr.fecha_final periodo_ff\n",
    "    from periodosRegulares pr\n",
    "\"\"\"\n",
    "temp = pd.read_sql(query, con=motor)\n",
    "\n",
    "DATOS = DATOS.merge(temp, on=['periodo'], how='left')\n"
   ]
  },
  {
   "cell_type": "markdown",
   "metadata": {},
   "source": [
    "SALVEMOS DATOS para que no nos toque procesar lo anterior"
   ]
  },
  {
   "cell_type": "code",
   "execution_count": 65,
   "metadata": {},
   "outputs": [],
   "source": [
    "DATOS.to_excel('DATOS.xlsx')"
   ]
  },
  {
   "cell_type": "markdown",
   "metadata": {},
   "source": [
    "### **2.3 Ahora si calculamos si dada una fila en d de DATOS, los siguientes 2 periodos no matriculó (ni se graduó)**\n",
    "\n",
    "Ahora procedemos a generar LABEL: 1- el estudiante desertó.  0- el estudiante no desertó\n",
    "\n",
    "hacemos un FOR en DATOS\n",
    "por cada d (en el periodo i)\n",
    "   miramos si i e i+1 tiene matricula: \n",
    "   si si:   lo marcamos como 0 -  \n",
    "   si no:  miramos si se graduó en i, i+1 o i+2.  \n",
    "           si si:  marcamos como 0\n",
    "           si no:  marcamos como 1\n",
    "   "
   ]
  },
  {
   "cell_type": "code",
   "execution_count": 4,
   "metadata": {},
   "outputs": [],
   "source": [
    "import pandas as pd\n",
    "from sqlalchemy import create_engine\n",
    "\n",
    "usuario = 'uaopiloto'\n",
    "contraseña = 'ap'\n",
    "host = 'localhost'  # Por ejemplo, 'localhost'\n",
    "base_de_datos = 'UAOPiloto'\n",
    "\n",
    "# Crea una cadena de conexión\n",
    "cadena_conexion = f'mysql+mysqlconnector://{usuario}:{contraseña}@{host}/{base_de_datos}'\n",
    "# Crea una instancia del motor SQLAlchemy\n",
    "motor = create_engine(cadena_conexion)\n",
    "DATOS = pd.read_excel('DATOS.xlsx')"
   ]
  },
  {
   "cell_type": "code",
   "execution_count": 5,
   "metadata": {},
   "outputs": [],
   "source": [
    "# el máximo periodo_orden es 12\n",
    "\n",
    "from datetime import datetime, timedelta\n",
    "\n",
    "DATOS['LABEL'] = -1   # asumimos que no se puede calcular\n",
    "\n",
    "for indice, d in DATOS.iterrows():\n",
    "    \n",
    "    id_estudiante = d['id_estudiante']\n",
    "    periodo_orden = d['periodo_orden']\n",
    "\n",
    "    # print(id_estudiante, periodo_orden,'fecha_grado:', d['fecha_grado'], 'periodo_fi:', d['periodo_fi'], d['periodo_fi'] + timedelta(days=365))\n",
    "\n",
    "\n",
    "    if periodo_orden >= 10:  # si es 11 o 12 no podemos aún calcular si si o si no\n",
    "        d['LABEL'] = -1\n",
    "        # print('     no se sabe')\n",
    "    else:\n",
    "        existe_periodo_1 =  DATOS[(DATOS['id_estudiante'] == id_estudiante) & (DATOS['periodo_orden'] == periodo_orden +1)]\n",
    "        existe_periodo_2 =  DATOS[(DATOS['id_estudiante'] == id_estudiante) & (DATOS['periodo_orden'] == periodo_orden +2)]\n",
    "\n",
    "        # si matriculo periodo 1 o periodo 2\n",
    "        if len(existe_periodo_1)>0 or len(existe_periodo_2)>0:\n",
    "            \n",
    "            # como matriculó al menos uno de los dos siguientes periodos, no es desertor.\n",
    "            DATOS.at[indice, 'LABEL'] = 0  \n",
    "\n",
    "        else: \n",
    "\n",
    "            # si entra aquí es porque no matriculo ninguno de los dos siguientes períodos\n",
    "\n",
    "            # si no tiene fecha de grado, es desertor.\n",
    "            if pd.isna(d['fecha_grado']):\n",
    "                DATOS.at[indice, 'LABEL'] = 1\n",
    "            else:  \n",
    "                \n",
    "                # si sí tiene fecha de grado, pero es posterior a 1 año, es desertor.\n",
    "                if d['fecha_grado'] > d['periodo_fi'] + timedelta(days=365):  \n",
    "                    DATOS.at[indice, 'LABEL'] = 1\n",
    "                else:\n",
    "                    # si la fecha de grado ocurre antes de un año, NO es desertor.\n",
    "                    DATOS.at[indice, 'LABEL'] = 0\n"
   ]
  },
  {
   "cell_type": "code",
   "execution_count": 7,
   "metadata": {},
   "outputs": [
    {
     "data": {
      "text/plain": [
       "Index(['Unnamed: 0', 'id_estudiante', 'periodo', 'periodo_inicial',\n",
       "       'fecha_grado', 'fecha_nacimiento', 'genero', 'colegio',\n",
       "       'ciudad_colegio', 'periodo_orden', 'periodo_fi', 'periodo_ff', 'LABEL'],\n",
       "      dtype='object')"
      ]
     },
     "execution_count": 7,
     "metadata": {},
     "output_type": "execute_result"
    }
   ],
   "source": [
    "DATOS.columns"
   ]
  },
  {
   "cell_type": "markdown",
   "metadata": {},
   "source": [
    "# **3.  Adicionar variables de interés**"
   ]
  },
  {
   "cell_type": "markdown",
   "metadata": {},
   "source": [
    "El excel HIPOTESIS vs VARIABLES va explicando qué variables se van a ir adicionando\n",
    "\n",
    "### **3.1 Resultados por áreas icfes**\n",
    "Se adiciona el resultado en cada área que obtuvo el estudiante, incluyendo el resultado en ICFES_ANTIGUO\n",
    "Si hay nulo se coloca -100"
   ]
  },
  {
   "cell_type": "code",
   "execution_count": 21,
   "metadata": {},
   "outputs": [],
   "source": [
    "query = \"\"\"\n",
    "    SELECT  id_estudiante, IFNULL(icfes_antiguo,-100), IFNULL(biologia,-100), IFNULL(matematica,-100), IFNULL(filosofia,-100), \n",
    "            IFNULL(fisica,-100), IFNULL(historia,-100), IFNULL(quimica,-100), IFNULL(lenguaje,-100), \n",
    "            IFNULL(geografia,-100), IFNULL(idioma,-100), IFNULL(interdisciplinar,-100)\n",
    "    FROM icfes;\n",
    "\"\"\"\n",
    "temp = pd.read_sql(query, con=motor)\n",
    "# hacemos join (temporal) contra datos y vamos a mirar cómo podemos agrupar cada variable frente a LABEL\n",
    "DATOS = DATOS.merge(temp, on=['id_estudiante'], how='left')"
   ]
  },
  {
   "cell_type": "markdown",
   "metadata": {},
   "source": [
    "### **3.2 Distribución notas obtenidas 2 semestres anteriores**\n",
    "\n",
    "Para poder obtener esta información correctamente es conveniente NORMALIZAR la tabla EstudianteAsignatura\n",
    "en 3 tablas:\n",
    "\n",
    "EstudianteAsignatura:  info del estudiante y la asignatura que matrículo. PK= (periodo, id_estudiante, cod_asig) \n",
    "EA_grupo:  que tiene como pk (periodo, id_estudiante, cod_asig, grupo)\n",
    "EA_docentes:  que tiene como pk (periodo, id_estudiante, cod_asig, grupo, cedula)\n",
    "\n",
    "Y también se creó la columna nivel_nota en estudianteasignatura que nos dice cuantas de ese tipo sacó. \n",
    "if definitiva null ->  nivel_nota = -1\n",
    "if definitiva menor a 3.0 -> nivel_nota = 1\n",
    "if definitiva entre 3 y menor a 3.8 -> nivel_nota = 2\n",
    "if definitiva mayor o igual a 3.8 -> nivel_nota = 3\n",
    "\n"
   ]
  },
  {
   "cell_type": "code",
   "execution_count": 26,
   "metadata": {},
   "outputs": [],
   "source": [
    "query = \"\"\"\n",
    "    SELECT  id_estudiante, periodo, count(*) notas_bajas\n",
    "    FROM estudianteasignatura, periodosRegulares\n",
    "    group by id_estudiante, periodosRegulares;\n",
    "\"\"\"\n",
    "temp = pd.read_sql(query, con=motor)\n"
   ]
  },
  {
   "cell_type": "code",
   "execution_count": 27,
   "metadata": {},
   "outputs": [
    {
     "data": {
      "text/html": [
       "<div>\n",
       "<style scoped>\n",
       "    .dataframe tbody tr th:only-of-type {\n",
       "        vertical-align: middle;\n",
       "    }\n",
       "\n",
       "    .dataframe tbody tr th {\n",
       "        vertical-align: top;\n",
       "    }\n",
       "\n",
       "    .dataframe thead th {\n",
       "        text-align: right;\n",
       "    }\n",
       "</style>\n",
       "<table border=\"1\" class=\"dataframe\">\n",
       "  <thead>\n",
       "    <tr style=\"text-align: right;\">\n",
       "      <th></th>\n",
       "      <th>id_estudiante</th>\n",
       "      <th>periodo</th>\n",
       "      <th>notas_bajas</th>\n",
       "    </tr>\n",
       "  </thead>\n",
       "  <tbody>\n",
       "    <tr>\n",
       "      <th>0</th>\n",
       "      <td>2146669</td>\n",
       "      <td>201801</td>\n",
       "      <td>7</td>\n",
       "    </tr>\n",
       "    <tr>\n",
       "      <th>1</th>\n",
       "      <td>2146707</td>\n",
       "      <td>201801</td>\n",
       "      <td>5</td>\n",
       "    </tr>\n",
       "    <tr>\n",
       "      <th>2</th>\n",
       "      <td>2146709</td>\n",
       "      <td>201801</td>\n",
       "      <td>7</td>\n",
       "    </tr>\n",
       "    <tr>\n",
       "      <th>3</th>\n",
       "      <td>2146710</td>\n",
       "      <td>201801</td>\n",
       "      <td>5</td>\n",
       "    </tr>\n",
       "    <tr>\n",
       "      <th>4</th>\n",
       "      <td>2146711</td>\n",
       "      <td>201801</td>\n",
       "      <td>5</td>\n",
       "    </tr>\n",
       "    <tr>\n",
       "      <th>...</th>\n",
       "      <td>...</td>\n",
       "      <td>...</td>\n",
       "      <td>...</td>\n",
       "    </tr>\n",
       "    <tr>\n",
       "      <th>827</th>\n",
       "      <td>2236079</td>\n",
       "      <td>202303</td>\n",
       "      <td>12</td>\n",
       "    </tr>\n",
       "    <tr>\n",
       "      <th>828</th>\n",
       "      <td>2236229</td>\n",
       "      <td>202303</td>\n",
       "      <td>12</td>\n",
       "    </tr>\n",
       "    <tr>\n",
       "      <th>829</th>\n",
       "      <td>2236496</td>\n",
       "      <td>202303</td>\n",
       "      <td>12</td>\n",
       "    </tr>\n",
       "    <tr>\n",
       "      <th>830</th>\n",
       "      <td>2236497</td>\n",
       "      <td>202303</td>\n",
       "      <td>13</td>\n",
       "    </tr>\n",
       "    <tr>\n",
       "      <th>831</th>\n",
       "      <td>2237170</td>\n",
       "      <td>202303</td>\n",
       "      <td>13</td>\n",
       "    </tr>\n",
       "  </tbody>\n",
       "</table>\n",
       "<p>832 rows × 3 columns</p>\n",
       "</div>"
      ],
      "text/plain": [
       "     id_estudiante  periodo  notas_bajas\n",
       "0          2146669   201801            7\n",
       "1          2146707   201801            5\n",
       "2          2146709   201801            7\n",
       "3          2146710   201801            5\n",
       "4          2146711   201801            5\n",
       "..             ...      ...          ...\n",
       "827        2236079   202303           12\n",
       "828        2236229   202303           12\n",
       "829        2236496   202303           12\n",
       "830        2236497   202303           13\n",
       "831        2237170   202303           13\n",
       "\n",
       "[832 rows x 3 columns]"
      ]
     },
     "execution_count": 27,
     "metadata": {},
     "output_type": "execute_result"
    }
   ],
   "source": [
    "temp"
   ]
  },
  {
   "cell_type": "code",
   "execution_count": 22,
   "metadata": {},
   "outputs": [],
   "source": [
    "DATOS['notas_bajas_hace_1s'] = 0\n",
    "\n",
    "for indice, d in DATOS.iterrows():\n",
    "    \n",
    "    id_estudiante = d['id_estudiante']\n",
    "    periodo_orden = d['periodo_orden']\n",
    "\n",
    "    \n",
    "    existe_periodo_1 =  DATOS[(DATOS['id_estudiante'] == id_estudiante) & (DATOS['periodo_orden'] == periodo_orden +1)]\n",
    "\n",
    "    # encontramos una matricula el período anterior \n",
    "    if existe_periodo_1:\n",
    "    \n",
    "       # vamos a estudiantesasignaturas \n"
   ]
  },
  {
   "cell_type": "code",
   "execution_count": null,
   "metadata": {},
   "outputs": [],
   "source": []
  }
 ],
 "metadata": {
  "kernelspec": {
   "display_name": "venv",
   "language": "python",
   "name": "python3"
  },
  "language_info": {
   "codemirror_mode": {
    "name": "ipython",
    "version": 3
   },
   "file_extension": ".py",
   "mimetype": "text/x-python",
   "name": "python",
   "nbconvert_exporter": "python",
   "pygments_lexer": "ipython3",
   "version": "3.9.6"
  },
  "orig_nbformat": 4
 },
 "nbformat": 4,
 "nbformat_minor": 2
}
