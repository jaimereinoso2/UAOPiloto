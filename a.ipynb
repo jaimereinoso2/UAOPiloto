{
 "cells": [
  {
   "cell_type": "markdown",
   "metadata": {},
   "source": [
    "# **Proyecto UAO - Piloto Deserción**\n",
    "## Gerente UAO:  Erik Orozco\n",
    "## Consultor Innovadata.ai:  Jaime Reinoso\n",
    "\n",
    "Actores: \n",
    "EO. Erik Orozco\n",
    "JR.  Jaime Reinoso\n",
    "\n",
    "Formato fechas: YYYY.MM.DD\n",
    "\n",
    "Hitos Proyecto:\n",
    "2023.08.30 - Reunion de kickoff:  se explica alcance, proceso a seguir y data posible a capturar.  Powerpoint de soporte.\n",
    "2023.09.08 - Se recibe email de ERIK con data\n",
    "2023.09.11 - Jaime analiza data\n",
    "\n",
    "**Importaciones Globales**\n"
   ]
  },
  {
   "cell_type": "code",
   "execution_count": 1,
   "metadata": {},
   "outputs": [
    {
     "name": "stderr",
     "output_type": "stream",
     "text": [
      "/Users/jaimereinoso/DESARROLLO/UAOPiloto/venv/lib/python3.9/site-packages/tqdm/auto.py:21: TqdmWarning: IProgress not found. Please update jupyter and ipywidgets. See https://ipywidgets.readthedocs.io/en/stable/user_install.html\n",
      "  from .autonotebook import tqdm as notebook_tqdm\n",
      "/var/folders/tx/1tx9w9fj6v78n5f12zkwg_vc0000gn/T/ipykernel_99273/3708703399.py:1: DeprecationWarning: `import pandas_profiling` is going to be deprecated by April 1st. Please use `import ydata_profiling` instead.\n",
      "  from pandas_profiling import ProfileReport\n"
     ]
    }
   ],
   "source": [
    "from pandas_profiling import ProfileReport\n",
    "import pandas as pd"
   ]
  },
  {
   "cell_type": "markdown",
   "metadata": {},
   "source": [
    "## 1.  Recolección de Datos\n",
    "Como primera medida se leen los archivos entregados con el fin de entender la data, detectar inconsistencias y validar cantidad de filas disponibles.\n"
   ]
  },
  {
   "cell_type": "markdown",
   "metadata": {},
   "source": [
    "### **1.1 Estudiantes**"
   ]
  },
  {
   "cell_type": "code",
   "execution_count": 6,
   "metadata": {},
   "outputs": [
    {
     "name": "stderr",
     "output_type": "stream",
     "text": [
      "Summarize dataset: 100%|██████████| 33/33 [00:02<00:00, 14.74it/s, Completed]                             \n",
      "Generate report structure: 100%|██████████| 1/1 [00:03<00:00,  3.84s/it]\n",
      "Render HTML: 100%|██████████| 1/1 [00:00<00:00,  1.63it/s]\n",
      "Export report to file: 100%|██████████| 1/1 [00:00<00:00, 290.54it/s]\n"
     ]
    },
    {
     "data": {
      "text/plain": [
       "Index(['PERIODO', 'ID_ESTUDIANTE', 'IDENTIFICACION', 'PROG', 'FECHA_ADMITIDO',\n",
       "       'FECHA_DESERTO', 'ESTADO', 'FECHA_GRADO', 'FECHA_NACIMIENTO', 'GENERO',\n",
       "       'COLEGIO', 'FECHA_GRADO_COLEGIO', 'FECHA_ICFES', 'CIUDAD_COLEGIO'],\n",
       "      dtype='object')"
      ]
     },
     "execution_count": 6,
     "metadata": {},
     "output_type": "execute_result"
    }
   ],
   "source": [
    "from pandas_profiling import ProfileReport\n",
    "import pandas as pd\n",
    "\n",
    "estudiantes = pd.read_excel('data_original/estudiante.xlsx')\n",
    "prof = ProfileReport(estudiantes)\n",
    "prof.to_file(output_file='estudiantest.html')\n",
    "estudiantes.columns"
   ]
  },
  {
   "cell_type": "markdown",
   "metadata": {},
   "source": [
    "* (OJO) Se detectan sólo 163 filas.  Posiblemente se requieran más datos.  sin embargo, si el modelo base de MATRICULA y no ESTUDIANTES, se generarían cerca de 9 veces más datos que podrían servir para el piloto.    El modelo por tanto tomaría info de un estudiante que acaba de matricularse durante un nuevo semestre.\n",
    "\n",
    "* Se detectan 8 PERIODOS desde el 201802 hasta el 202204, lo cual son 4 años.\n",
    "* Cada estudiante tiene su ID (ok).  \n",
    "* (OJO) Existe una IDENTIFICACION de cada uno, lo cual no es necesario y es mejor evitar por temas de habeas data.  Será eliminada tanto del excel como del archivo posterior confirmación con ERIK.\n",
    "* Todos vienen del mismo programa (OK)\n",
    "* (OJO) hay 85 filas que presentan datos en FECHA_DESERTO.  Frente al total de filas es interesante pues pareciera estar \"balanceado\", lo que significa que habría cerca de un 50% de deserción!!\n",
    "* (OJO) frente al estado actual, hay 80 filas activas, 78 inactivas (no cuadra con desercion), y 5 graduados únicamente.\n",
    "* El género viene balanceado (OK)\n",
    "* muy pocas instancias de colegios distintos.  Estudiar si hay formas de agruparlos por demografía, geográfia, etc.\n",
    "* (OJO) Dos campos no traen datos FECHA_GRADO_COLEGIO y FECHA_ICFES\n",
    "* viene la ciudad del colegio, aunque 117 son de cali y por tanto no hay tanta variabilidad.  Agrupar posiblemente (cali, no-cali).\n",
    "* NULOS:  de los 163 filas, en FECHA_DESERTO hay datos en 78.  FECHA_GRADO solo en 5.\n",
    "\n",
    "\n",
    "\n"
   ]
  },
  {
   "cell_type": "markdown",
   "metadata": {},
   "source": [
    "### **1.2 Admisiones**"
   ]
  },
  {
   "cell_type": "code",
   "execution_count": 7,
   "metadata": {},
   "outputs": [
    {
     "name": "stderr",
     "output_type": "stream",
     "text": [
      "Summarize dataset: 100%|██████████| 114/114 [00:12<00:00,  9.05it/s, Completed]                                     \n",
      "Generate report structure: 100%|██████████| 1/1 [00:11<00:00, 11.43s/it]\n",
      "Render HTML: 100%|██████████| 1/1 [00:02<00:00,  2.17s/it]\n",
      "Export report to file: 100%|██████████| 1/1 [00:00<00:00, 92.63it/s]\n"
     ]
    },
    {
     "data": {
      "text/plain": [
       "Index(['PROGRAMA_CODIGO', 'SEDE_NOMBRE', 'PERIODO_INSCRIPCION',\n",
       "       'FECHA_INSCRIPCION', 'PROGRAMA_OPCION1_CODIGO', 'NIVELATORIO_INGLES',\n",
       "       'FECHA_NIVELATORIO_INGLES', 'PRUEBA_DIAGNOSTICA', 'ID_ESTUDIANTE',\n",
       "       'PERIODO_EXPEDIENTE', 'ACCESO_NOMBRE', 'ESTADO_ACADEMICO',\n",
       "       'SFDC_ESTADO_ACA', 'CREDITOS_CURSADOS', 'CREDITOS_APROBADOS',\n",
       "       'FECHA_GRADO', 'RANGO_CREDITOS', 'MEDIO_ENTERO_PROGRAMA',\n",
       "       'TIPO_SOLICITUD', 'ESTUDIANTE_ARTICULACION', 'PREGUNTA1', 'RESPUESTA1',\n",
       "       'PREGUNTA2', 'RESPUESTA2', 'PREGUNTA3', 'RESPUESTA3', 'PREGUNTA4',\n",
       "       'RESPUESTA4', 'PREGUNTA5', 'RESPUESTA5', 'PREGUNTA6', 'RESPUESTA6',\n",
       "       'EXPEDIENTE_BLOQ_FECHA', 'PROMEDIO_POND_SEM', 'PROMEDIO_POND_ACUM',\n",
       "       'ULTIMO_PERIODO_MAT', 'CRED_MATRICULADOS', 'ULTIMO_PROCESO_MAT',\n",
       "       'PILOS_UAO', 'SOLICITUD_PYS_GRADO'],\n",
       "      dtype='object')"
      ]
     },
     "execution_count": 7,
     "metadata": {},
     "output_type": "execute_result"
    }
   ],
   "source": [
    "admisiones = pd.read_excel('data_original/admisiones.xlsx')\n",
    "prof = ProfileReport(admisiones)\n",
    "prof.to_file(output_file='admisiones.html')\n",
    "admisiones.columns"
   ]
  },
  {
   "cell_type": "markdown",
   "metadata": {},
   "source": [
    "* (OJO) 150 observaciones.  Estudiantes tenía 163.  No todo estudiante tiene info de admisiones.\n",
    "* todos del mismo programa y misma sede\n",
    "* NIVELATORIO_INGLES bastante balanceado, con solo 15 missings.\n",
    "* PRUEBA_DIAGNOSTICA S:89, N:46.  15 missings.   \n",
    "* ID_ESTUDIANTE:   relación 1:1 entre ADMISIONES y ESTUDIANTES (???)\n",
    "* ACCESO_NOMBRE:  el tipo de admision (Admision 1er sem, Transferencia interna, Transferencia externa)\n",
    "* (OJO) ESTADO:  89 activo, 57 inactivo, 6 graduados, 1 Mat (matriculado?).   no cuadra con los datos de estudiante\n",
    "* (OJO) SFDC_ESTADO_ACA:  no cuadra con ESTADO_ACADEMICO de esta tabla ni con información en ESTUDIANTES.\n",
    "* (OJO) CREDITOS_CURSADOS:  la cantidad de créditos que ha cursado el estudiante (confirmar). desde 5 hasta 177.    Averiguar datos por semestre (posiblemente en otras tablas)\n",
    "* (OJO) CREDITOS_APROBADOS:  de 0 a 175.  Interesante.  Ojala conseguir esto por semestre.\n",
    "* (OJO) FECHA_GRADO.  aparecen 3 instancias.  No cuadra con la info en ESTUDIANTES.\n",
    "* (OJO) RANGO_CREDITOS.  hay de 10 a 18 y de 16 a 18.  Se sobreponen???\n",
    "* MEDIO_ENTERO_PROGRAMA: cómo se enteró del programa.  Interesante!!\n",
    "* (OJO) TIPO_SOLICITUD:  ingreso/transferencia.  Ya cubierta en otra columna.\n",
    "* (OJO) ESTUDIANTE_ARTICULACIÓN:  NO:140, S:1, NULL: 9  (qué es????   MUY desbalanceado)\n",
    "* 6 PREGUNTAX / RESPUESTAX.  interesante.\n",
    "* (OJO) PROMEDIO_POND_SEM:  está en ADMISION? no debería estar en una tabla por semestre?\n",
    "* (OJO) PROMEDIO_POND_ACUM:  idem al anterior.\n",
    "* (OJO) CRED_MATRICULADOS: 4 distintos valores.   debería ser por semestre.\n",
    "* (OJO) ULTIMO_PROCESO_MAT:  ultimo proceso matriculado..  interesante, pero deberia ser mejor por semestre.\n",
    "* (OJO) PILOS_UAO:  muy desbalanceado.  N: 86, S:1, NULL: 63\n",
    "* SOLICITUD_PYS_GRADO: interesante.  pero pocas filas lastimósamente. \n",
    "\n",
    "IDEA:  centralizar data alrededor del SEMESTRE y no del ESTUDIANTE.  Esto nos aumenta cantidad de filas.   \n"
   ]
  },
  {
   "cell_type": "markdown",
   "metadata": {},
   "source": [
    "### **1.3 ESTUDIANTEASIGNATURA**"
   ]
  },
  {
   "cell_type": "code",
   "execution_count": 8,
   "metadata": {},
   "outputs": [
    {
     "name": "stderr",
     "output_type": "stream",
     "text": [
      "Summarize dataset: 100%|██████████| 42/42 [00:03<00:00, 12.61it/s, Completed]                             \n",
      "Generate report structure: 100%|██████████| 1/1 [00:04<00:00,  4.15s/it]\n",
      "Render HTML: 100%|██████████| 1/1 [00:00<00:00,  1.18it/s]\n",
      "Export report to file: 100%|██████████| 1/1 [00:00<00:00, 486.63it/s]\n"
     ]
    },
    {
     "data": {
      "text/plain": [
       "Index(['PERIODO', 'PERIODO_VERANO', 'ID_ESTUDIANTE', 'COD_DEP', 'COD_ASIG',\n",
       "       'GRUPO', 'ASIGNATURA-GRUPO', 'CREDITOS', 'CEDULA', 'DEFINITIVA',\n",
       "       'DEFINITIVA_ALF', 'CANCELADA_VOL', 'CANCELADA_UAO',\n",
       "       'PERDIDA_INASISTENCIA', 'PERDIDA', 'GANADA'],\n",
       "      dtype='object')"
      ]
     },
     "execution_count": 8,
     "metadata": {},
     "output_type": "execute_result"
    }
   ],
   "source": [
    "estudianteasignatura = pd.read_excel('data_original/EstudianteAsignatura.xlsx')\n",
    "prof = ProfileReport(estudianteasignatura)\n",
    "prof.to_file(output_file='EstudianteAsignatura.html')\n",
    "estudianteasignatura.columns"
   ]
  },
  {
   "cell_type": "code",
   "execution_count": null,
   "metadata": {},
   "outputs": [],
   "source": []
  }
 ],
 "metadata": {
  "kernelspec": {
   "display_name": "venv",
   "language": "python",
   "name": "python3"
  },
  "language_info": {
   "codemirror_mode": {
    "name": "ipython",
    "version": 3
   },
   "file_extension": ".py",
   "mimetype": "text/x-python",
   "name": "python",
   "nbconvert_exporter": "python",
   "pygments_lexer": "ipython3",
   "version": "3.9.6"
  },
  "orig_nbformat": 4
 },
 "nbformat": 4,
 "nbformat_minor": 2
}
