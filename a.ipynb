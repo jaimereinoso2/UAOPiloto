{
 "cells": [
  {
   "cell_type": "markdown",
   "metadata": {},
   "source": [
    "# **Proyecto UAO - Piloto Deserción**\n",
    "## Gerente UAO:  Erik Orozco\n",
    "## Consultor Innovadata.ai:  Jaime Reinoso\n",
    "\n",
    "Actores: \n",
    "EO. Erik Orozco\n",
    "JR.  Jaime Reinoso\n",
    "\n",
    "Formato fechas: YYYY.MM.DD\n",
    "\n",
    "Hitos Proyecto:\n",
    "2023.08.30 - Reunion de kickoff:  se explica alcance, proceso a seguir y data posible a capturar.  Powerpoint de soporte.\n",
    "2023.09.08 - Se recibe email de ERIK con data\n",
    "2023.09.11 - Jaime analiza data\n",
    "\n",
    "**Importaciones Globales**\n"
   ]
  },
  {
   "cell_type": "code",
   "execution_count": 1,
   "metadata": {},
   "outputs": [
    {
     "name": "stderr",
     "output_type": "stream",
     "text": [
      "/Users/jaimereinoso/DESARROLLO/UAOPiloto/venv/lib/python3.9/site-packages/tqdm/auto.py:21: TqdmWarning: IProgress not found. Please update jupyter and ipywidgets. See https://ipywidgets.readthedocs.io/en/stable/user_install.html\n",
      "  from .autonotebook import tqdm as notebook_tqdm\n",
      "/var/folders/tx/1tx9w9fj6v78n5f12zkwg_vc0000gn/T/ipykernel_99273/3708703399.py:1: DeprecationWarning: `import pandas_profiling` is going to be deprecated by April 1st. Please use `import ydata_profiling` instead.\n",
      "  from pandas_profiling import ProfileReport\n"
     ]
    }
   ],
   "source": [
    "from pandas_profiling import ProfileReport\n",
    "import pandas as pd"
   ]
  },
  {
   "cell_type": "markdown",
   "metadata": {},
   "source": [
    "## 1.  Recolección de Datos\n",
    "Como primera medida se leen los archivos entregados con el fin de entender la data, detectar inconsistencias y validar cantidad de filas disponibles.\n"
   ]
  },
  {
   "cell_type": "markdown",
   "metadata": {},
   "source": [
    "### **1.1 Estudiantes**"
   ]
  },
  {
   "cell_type": "code",
   "execution_count": 6,
   "metadata": {},
   "outputs": [
    {
     "name": "stderr",
     "output_type": "stream",
     "text": [
      "Summarize dataset: 100%|██████████| 33/33 [00:02<00:00, 14.74it/s, Completed]                             \n",
      "Generate report structure: 100%|██████████| 1/1 [00:03<00:00,  3.84s/it]\n",
      "Render HTML: 100%|██████████| 1/1 [00:00<00:00,  1.63it/s]\n",
      "Export report to file: 100%|██████████| 1/1 [00:00<00:00, 290.54it/s]\n"
     ]
    },
    {
     "data": {
      "text/plain": [
       "Index(['PERIODO', 'ID_ESTUDIANTE', 'IDENTIFICACION', 'PROG', 'FECHA_ADMITIDO',\n",
       "       'FECHA_DESERTO', 'ESTADO', 'FECHA_GRADO', 'FECHA_NACIMIENTO', 'GENERO',\n",
       "       'COLEGIO', 'FECHA_GRADO_COLEGIO', 'FECHA_ICFES', 'CIUDAD_COLEGIO'],\n",
       "      dtype='object')"
      ]
     },
     "execution_count": 6,
     "metadata": {},
     "output_type": "execute_result"
    }
   ],
   "source": [
    "from pandas_profiling import ProfileReport\n",
    "import pandas as pd\n",
    "\n",
    "estudiantes = pd.read_excel('data_original/estudiante.xlsx')\n",
    "prof = ProfileReport(estudiantes)\n",
    "prof.to_file(output_file='estudiantest.html')\n",
    "estudiantes.columns"
   ]
  },
  {
   "cell_type": "markdown",
   "metadata": {},
   "source": [
    "* (OJO) Se detectan sólo 163 filas.  Posiblemente se requieran más datos.  sin embargo, si el modelo base es MATRICULA y no ESTUDIANTES, se generarían cerca de 9 veces más datos que podrían servir para el piloto.    El modelo por tanto tomaría info de un estudiante que acaba de matricularse durante un nuevo semestre.\n",
    "\n",
    "* Se detectan 8 PERIODOS desde el 201802 hasta el 202204, lo cual son 4 años.\n",
    "* Cada estudiante tiene su ID (ok).  \n",
    "* (OJO) Existe una IDENTIFICACION de cada uno, lo cual no es necesario y es mejor evitar por temas de habeas data.  Será eliminada tanto del excel como del archivo posterior confirmación con ERIK.\n",
    "* Todos vienen del mismo programa (OK)\n",
    "* (OJO) hay 85 filas que presentan datos en FECHA_DESERTO.  Frente al total de filas es interesante pues pareciera estar \"balanceado\", lo que significa que habría cerca de un 50% de deserción!!\n",
    "* (OJO) frente al estado actual, hay 80 filas activas, 78 inactivas (no cuadra con desercion), y 5 graduados únicamente.\n",
    "* El género viene balanceado (OK)\n",
    "* muy pocas instancias de colegios distintos.  Estudiar si hay formas de agruparlos por demografía, geográfia, etc.\n",
    "* (OJO) Dos campos no traen datos FECHA_GRADO_COLEGIO y FECHA_ICFES\n",
    "* viene la ciudad del colegio, aunque 117 son de cali y por tanto no hay tanta variabilidad.  Agrupar posiblemente (cali, no-cali).\n",
    "* NULOS:  de los 163 filas, en FECHA_DESERTO hay datos en 78.  FECHA_GRADO solo en 5.\n",
    "\n",
    "\n",
    "\n"
   ]
  },
  {
   "cell_type": "markdown",
   "metadata": {},
   "source": [
    "### **1.2 Admisiones**"
   ]
  },
  {
   "cell_type": "code",
   "execution_count": 7,
   "metadata": {},
   "outputs": [
    {
     "name": "stderr",
     "output_type": "stream",
     "text": [
      "Summarize dataset: 100%|██████████| 114/114 [00:12<00:00,  9.05it/s, Completed]                                     \n",
      "Generate report structure: 100%|██████████| 1/1 [00:11<00:00, 11.43s/it]\n",
      "Render HTML: 100%|██████████| 1/1 [00:02<00:00,  2.17s/it]\n",
      "Export report to file: 100%|██████████| 1/1 [00:00<00:00, 92.63it/s]\n"
     ]
    },
    {
     "data": {
      "text/plain": [
       "Index(['PROGRAMA_CODIGO', 'SEDE_NOMBRE', 'PERIODO_INSCRIPCION',\n",
       "       'FECHA_INSCRIPCION', 'PROGRAMA_OPCION1_CODIGO', 'NIVELATORIO_INGLES',\n",
       "       'FECHA_NIVELATORIO_INGLES', 'PRUEBA_DIAGNOSTICA', 'ID_ESTUDIANTE',\n",
       "       'PERIODO_EXPEDIENTE', 'ACCESO_NOMBRE', 'ESTADO_ACADEMICO',\n",
       "       'SFDC_ESTADO_ACA', 'CREDITOS_CURSADOS', 'CREDITOS_APROBADOS',\n",
       "       'FECHA_GRADO', 'RANGO_CREDITOS', 'MEDIO_ENTERO_PROGRAMA',\n",
       "       'TIPO_SOLICITUD', 'ESTUDIANTE_ARTICULACION', 'PREGUNTA1', 'RESPUESTA1',\n",
       "       'PREGUNTA2', 'RESPUESTA2', 'PREGUNTA3', 'RESPUESTA3', 'PREGUNTA4',\n",
       "       'RESPUESTA4', 'PREGUNTA5', 'RESPUESTA5', 'PREGUNTA6', 'RESPUESTA6',\n",
       "       'EXPEDIENTE_BLOQ_FECHA', 'PROMEDIO_POND_SEM', 'PROMEDIO_POND_ACUM',\n",
       "       'ULTIMO_PERIODO_MAT', 'CRED_MATRICULADOS', 'ULTIMO_PROCESO_MAT',\n",
       "       'PILOS_UAO', 'SOLICITUD_PYS_GRADO'],\n",
       "      dtype='object')"
      ]
     },
     "execution_count": 7,
     "metadata": {},
     "output_type": "execute_result"
    }
   ],
   "source": [
    "admisiones = pd.read_excel('data_original/admisiones.xlsx')\n",
    "prof = ProfileReport(admisiones)\n",
    "prof.to_file(output_file='admisiones.html')\n",
    "admisiones.columns"
   ]
  },
  {
   "cell_type": "markdown",
   "metadata": {},
   "source": [
    "* (OJO) 150 observaciones.  Estudiantes tenía 163.  No todo estudiante tiene info de admisiones.\n",
    "* todos del mismo programa y misma sede\n",
    "* NIVELATORIO_INGLES bastante balanceado, con solo 15 missings.\n",
    "* PRUEBA_DIAGNOSTICA S:89, N:46.  15 missings.   \n",
    "* ID_ESTUDIANTE:   relación 1:1 entre ADMISIONES y ESTUDIANTES (???)\n",
    "* ACCESO_NOMBRE:  el tipo de admision (Admision 1er sem, Transferencia interna, Transferencia externa)\n",
    "* (OJO) ESTADO:  89 activo, 57 inactivo, 6 graduados, 1 Mat (matriculado?).   no cuadra con los datos de estudiante\n",
    "* (OJO) SFDC_ESTADO_ACA:  no cuadra con ESTADO_ACADEMICO de esta tabla ni con información en ESTUDIANTES.\n",
    "* (OJO) CREDITOS_CURSADOS:  la cantidad de créditos que ha cursado el estudiante (confirmar). desde 5 hasta 177.    Averiguar datos por semestre (posiblemente en otras tablas)\n",
    "* (OJO) CREDITOS_APROBADOS:  de 0 a 175.  Interesante.  Ojala conseguir esto por semestre.\n",
    "* (OJO) FECHA_GRADO.  aparecen 3 instancias.  No cuadra con la info en ESTUDIANTES.\n",
    "* (OJO) RANGO_CREDITOS.  hay de 10 a 18 y de 16 a 18.  Se sobreponen???\n",
    "* MEDIO_ENTERO_PROGRAMA: cómo se enteró del programa.  Interesante!!\n",
    "* (OJO) TIPO_SOLICITUD:  ingreso/transferencia.  Ya cubierta en otra columna.\n",
    "* (OJO) ESTUDIANTE_ARTICULACIÓN:  NO:140, S:1, NULL: 9  (qué es????   MUY desbalanceado)\n",
    "* 6 PREGUNTAX / RESPUESTAX.  interesante.\n",
    "* (OJO) PROMEDIO_POND_SEM:  está en ADMISION? no debería estar en una tabla por semestre?\n",
    "* (OJO) PROMEDIO_POND_ACUM:  idem al anterior.\n",
    "* (OJO) CRED_MATRICULADOS: 4 distintos valores.   debería ser por semestre.\n",
    "* (OJO) ULTIMO_PROCESO_MAT:  ultimo proceso matriculado..  interesante, pero deberia ser mejor por semestre.\n",
    "* (OJO) PILOS_UAO:  muy desbalanceado.  N: 86, S:1, NULL: 63\n",
    "* SOLICITUD_PYS_GRADO: interesante.  pero pocas filas lastimósamente. \n",
    "\n",
    "IDEA:  centralizar data alrededor del SEMESTRE y no del ESTUDIANTE.  Esto nos aumenta cantidad de filas.   \n"
   ]
  },
  {
   "cell_type": "markdown",
   "metadata": {},
   "source": [
    "### **1.3 EstudianteAsignatura**"
   ]
  },
  {
   "cell_type": "code",
   "execution_count": 8,
   "metadata": {},
   "outputs": [
    {
     "name": "stderr",
     "output_type": "stream",
     "text": [
      "Summarize dataset: 100%|██████████| 42/42 [00:03<00:00, 12.61it/s, Completed]                             \n",
      "Generate report structure: 100%|██████████| 1/1 [00:04<00:00,  4.15s/it]\n",
      "Render HTML: 100%|██████████| 1/1 [00:00<00:00,  1.18it/s]\n",
      "Export report to file: 100%|██████████| 1/1 [00:00<00:00, 486.63it/s]\n"
     ]
    },
    {
     "data": {
      "text/plain": [
       "Index(['PERIODO', 'PERIODO_VERANO', 'ID_ESTUDIANTE', 'COD_DEP', 'COD_ASIG',\n",
       "       'GRUPO', 'ASIGNATURA-GRUPO', 'CREDITOS', 'CEDULA', 'DEFINITIVA',\n",
       "       'DEFINITIVA_ALF', 'CANCELADA_VOL', 'CANCELADA_UAO',\n",
       "       'PERDIDA_INASISTENCIA', 'PERDIDA', 'GANADA'],\n",
       "      dtype='object')"
      ]
     },
     "execution_count": 8,
     "metadata": {},
     "output_type": "execute_result"
    }
   ],
   "source": [
    "estudianteasignatura = pd.read_excel('data_original/EstudianteAsignatura.xlsx')\n",
    "prof = ProfileReport(estudianteasignatura)\n",
    "prof.to_file(output_file='EstudianteAsignatura.html')\n",
    "estudianteasignatura.columns"
   ]
  },
  {
   "cell_type": "markdown",
   "metadata": {},
   "source": [
    "* 7296 observaciones.  OK.\n",
    "* PERIODO: viene información desde el 201801 hasta el 202203.  Recordar que 1 y 3 son regulares cierto?\n",
    "* (OJO) PERIODO_VERANO: todos con False.  Sobra?\n",
    "* (OJO) ID_ESTUDIANTE:  hay 242 estudiantes distintos, pero en estudiantes hay 163???.   Confirmar si hay estudiantes en esta tabla que no están en la tabla ESTUDIANTES\n",
    "* COD_DEP:  22 distintos departamentos.  No nulos.\n",
    "* COD_ASIG:  121 distintas.  No nulos.\n",
    "* GRUPO: 72 distintos.  No nulos.\n",
    "* ASIGNATURA-GRUPO:  318 combinaciones.  parece ser la combinación de COD_ASIG y GRUPO.  sobra?\n",
    "* CREDITOS:  de 2 a 10.  \n",
    "* (OJO) CEDULA:  203.  No cuadra con estudiantes.  quitar por habeas data.\n",
    "* DEFINITIVA:  entre 0 y 5, 50 valores.  690 missing = estarán matriculadas y no han terminado?\n",
    "* (OJO) DEFINITIVA_ALF:  5 valores categóricos.A, R, P, NS, SP.   Buscar la semantica.\n",
    "* CANCELADA_VOL:  S , N.   11/7285 \n",
    "* (OJO) CANCELADA_UAO:  S, N.   72/7224    (preguntar semántica de esta variable)\n",
    "* PERDIDA_INASISTENCIA: S,N. 3/7293.   \n",
    "* (OJO) PERDIDA:  S,N:  193/7031.    pocos pierden.  ¿porqué la deserción?\n",
    "* GANADA:  S,N: 860 / 6364\n",
    "\n"
   ]
  },
  {
   "cell_type": "markdown",
   "metadata": {},
   "source": [
    "### **1.4 DocentesEstudios**"
   ]
  },
  {
   "cell_type": "code",
   "execution_count": 2,
   "metadata": {},
   "outputs": [
    {
     "name": "stderr",
     "output_type": "stream",
     "text": [
      "Summarize dataset: 100%|██████████| 44/44 [00:03<00:00, 11.31it/s, Completed]                                                   \n",
      "Generate report structure: 100%|██████████| 1/1 [00:05<00:00,  5.39s/it]\n",
      "Render HTML: 100%|██████████| 1/1 [00:00<00:00,  1.24it/s]\n",
      "Export report to file: 100%|██████████| 1/1 [00:00<00:00, 296.12it/s]\n"
     ]
    },
    {
     "data": {
      "text/plain": [
       "Index(['EMP_CEDULA', 'INGRESO', 'FEC_ULTIMO_ING_CONTRA_ACT', 'CNOMBRE',\n",
       "       'GNOMBRE', 'MODALIDAD', 'NACI', 'CLASE', 'EMP_SEXO', 'INI_CONTRATO',\n",
       "       'FIN_CONTRATO', 'NACIDO_EN', 'CIUDAD_RESIDENCIA', 'NIV_COD', 'NIV_NOM',\n",
       "       'FECHA_GRADO', 'FECHA_TERM', 'TIPO_NOMINA'],\n",
       "      dtype='object')"
      ]
     },
     "execution_count": 2,
     "metadata": {},
     "output_type": "execute_result"
    }
   ],
   "source": [
    "from pandas_profiling import ProfileReport\n",
    "import pandas as pd\n",
    "\n",
    "docentesestudios = pd.read_excel('data_original/DocentesEstudios.xlsx')\n",
    "prof = ProfileReport(docentesestudios)\n",
    "prof.to_file(output_file='docentesestudios.html')\n",
    "docentesestudios.columns"
   ]
  },
  {
   "cell_type": "markdown",
   "metadata": {},
   "source": [
    "* Sobre DOCENTESESTUDIOS tenemos 121 observaciones con 18 variables (ok)\n",
    "* (OJO) si en estudiante hay 72 distintos grupos, será que hay más de un docente por grupo?\n",
    "* EMP_CEDULA:  quitar por habeas data.\n",
    "* INGRESO:  fecha de ingreso (DD/MM/YYYY)\n",
    "* (OJO) FEC_ULTIMO_ING_CONTRA_ACT:  Es rea (OJO) y viene en miles ej: 35000.  Tal vez viene en mal formato?\n",
    "* CNOMBRE: es el tipo de contrato:  DOCENTE HC, PLANTA, PROF_IDIOMAS, PROF_HC_IDIOMAS Y PROF_HC_MAESTRIA\n",
    "* GNOMBRE: una clasificación mayor del tipo de contrato.  ej: PROF_ASISTENTE_1\n",
    "* MODALIDAD:  hay 3 valores:  HC, TC, MT \n",
    "* NACI:  parece ser la fecha de nacimiento (DD/MM/YYYY)\n",
    "* (OJO) CLASE: parece repetir modalidad :  Hora Cat. Docente.\n",
    "* EMP_SEXO: género del empleado.  MAS, FEM\n",
    "* INI_CONTRATO:  fecha inicio contrato.   DD/MM/YYYY\n",
    "* FIN_CONTRATO: fecha finald el contrato.  DD/MM/YYYY\n",
    "* OJO:  verificar si hay varios contratos de un mismo docente.\n",
    "* NACIDO_EN:  ciudad donde nació el docente.  Categorical.  27.\n",
    "* CIUDAD_RESIDENCIA:  ciudad donde reside.  categorical.  8.\n",
    "* NIV_COD y NIV_NOM:  es el id y el nombre del nivel académico:  MAESTRIA, UNIVERSITARIA, DOCTORADO, ESPECIALIZACION, POSTDOC.\n",
    "* (OJO) FECHA_GRADO: Deber ser la fecha de grado, pero al interior está como real (ej: 36000)\n",
    "* (OJO) FECHA_TERM:  parece ser una fecha por el formato numérico como el caso anterior, pero no se entiende su significado.\n",
    "* TIPO_NOMINA:  parece indicar si el pago es normal o integral u HC...  H.CATEDRA, NORMAL, INTEGRAL \n",
    "\n",
    "\n"
   ]
  },
  {
   "cell_type": "markdown",
   "metadata": {},
   "source": [
    "#### **1.4.1 Revisión de si hay más de un contrato por docente**"
   ]
  },
  {
   "cell_type": "code",
   "execution_count": 14,
   "metadata": {},
   "outputs": [
    {
     "data": {
      "text/plain": [
       "EMP_CEDULA\n",
       "16692463    2\n",
       "80200393    2\n",
       "Name: count, dtype: int64"
      ]
     },
     "execution_count": 14,
     "metadata": {},
     "output_type": "execute_result"
    }
   ],
   "source": [
    "# miremos si hay más de una fila por docente.\n",
    "docentesestudios.dtypes\n",
    "conteo_valores = docentesestudios['EMP_CEDULA'].value_counts()\n",
    "conteo_mayor_a_1 = conteo_valores[conteo_valores > 1]\n",
    "conteo_mayor_a_1\n"
   ]
  },
  {
   "cell_type": "markdown",
   "metadata": {},
   "source": [
    "Según la revisión anterior, solo hay 2 docentes que aparecen con dos contratos.  Todos los demás solo aparecen una vez.  CONFIRMAR ESTO.\n",
    "\n",
    "(OJO) Hablar con ERIK para confirmar si existe historia academica de los docentes, es decir, que se sepa para un mismo docente, cuando pasó de profesional a master, y de ahi a phd, etc."
   ]
  },
  {
   "cell_type": "markdown",
   "metadata": {},
   "source": [
    "### **1.5 DocentesAsignaturas**\n",
    "\n",
    "OJO:  El excel venía con una hoja de cálculo al inicio vacía y por eso no lo leía.  Se la quité para que funcionara."
   ]
  },
  {
   "cell_type": "code",
   "execution_count": 21,
   "metadata": {},
   "outputs": [
    {
     "name": "stderr",
     "output_type": "stream",
     "text": [
      "Summarize dataset: 100%|██████████| 17/17 [00:00<00:00, 30.12it/s, Completed]                        \n",
      "Generate report structure: 100%|██████████| 1/1 [00:01<00:00,  1.46s/it]\n",
      "Render HTML: 100%|██████████| 1/1 [00:00<00:00,  3.76it/s]\n",
      "Export report to file: 100%|██████████| 1/1 [00:00<00:00, 772.72it/s]\n"
     ]
    },
    {
     "data": {
      "text/plain": [
       "Index(['PERIODO', 'PERIODO_VERANO', 'COD_DEP', 'COD_ASIG', 'GRUPO',\n",
       "       'ASIGNATURA-GRUPO', 'CEDULA'],\n",
       "      dtype='object')"
      ]
     },
     "execution_count": 21,
     "metadata": {},
     "output_type": "execute_result"
    }
   ],
   "source": [
    "from pandas_profiling import ProfileReport\n",
    "import pandas as pd\n",
    "\n",
    "docenteasignaturas = pd.read_excel('data_original/DocenteAsignaturas.xlsx')\n",
    "docenteasignaturas.shape\n",
    "prof = ProfileReport(docenteasignaturas)\n",
    "prof.to_file(output_file='docenteasignaturas.html')\n",
    "docenteasignaturas.columns"
   ]
  },
  {
   "cell_type": "markdown",
   "metadata": {},
   "source": [
    "Vienen 742 instancias.\n",
    "\n",
    "PERIODO: indica el período desde 201801 (parece) hasta 202203.\n",
    "(OJO) PERIODO_VERANO:  viene solo Flase.  sobra?\n",
    "COD_DEP:  código del departamento de la asignatura. 22 valores\n",
    "COD_ASIG: código de la asignatura.  121 valores.\n",
    "GRUPO:  código del grupo.  72 valores.\n",
    "ASIGNATURA-GRUPO: combinatoria de las dos anteriores.\n",
    "(OJO) CEDULA:  parece ser la cédula del docente..  aunque hay muchos con 2222222..  SOBRA?\n",
    "\n"
   ]
  }
 ],
 "metadata": {
  "kernelspec": {
   "display_name": "venv",
   "language": "python",
   "name": "python3"
  },
  "language_info": {
   "codemirror_mode": {
    "name": "ipython",
    "version": 3
   },
   "file_extension": ".py",
   "mimetype": "text/x-python",
   "name": "python",
   "nbconvert_exporter": "python",
   "pygments_lexer": "ipython3",
   "version": "3.9.6"
  },
  "orig_nbformat": 4
 },
 "nbformat": 4,
 "nbformat_minor": 2
}
